{
  "cells": [
    {
      "cell_type": "markdown",
      "metadata": {
        "id": "view-in-github",
        "colab_type": "text"
      },
      "source": [
        "<a href=\"https://colab.research.google.com/github/BhargavGurav/STGCN_IJCAI-18/blob/master/Traffic_Forecasting.ipynb\" target=\"_parent\"><img src=\"https://colab.research.google.com/assets/colab-badge.svg\" alt=\"Open In Colab\"/></a>"
      ]
    },
    {
      "cell_type": "code",
      "execution_count": null,
      "metadata": {
        "id": "VhovOB8A6G_K"
      },
      "outputs": [],
      "source": [
        "from google.colab import drive\n",
        "drive.mount('/content/drive')"
      ]
    },
    {
      "cell_type": "code",
      "execution_count": null,
      "metadata": {
        "id": "GWsyQyuHDWc3"
      },
      "outputs": [],
      "source": [
        "import os"
      ]
    },
    {
      "cell_type": "code",
      "execution_count": null,
      "metadata": {
        "colab": {
          "base_uri": "https://localhost:8080/",
          "height": 36
        },
        "id": "cnDU8RSNDXR6",
        "outputId": "498d1755-efd9-4754-a774-a8fbdf1a8309"
      },
      "outputs": [
        {
          "output_type": "execute_result",
          "data": {
            "text/plain": [
              "'/content/drive/MyDrive/sample_data'"
            ],
            "application/vnd.google.colaboratory.intrinsic+json": {
              "type": "string"
            }
          },
          "metadata": {},
          "execution_count": 16
        }
      ],
      "source": [
        "os.getcwd()"
      ]
    },
    {
      "cell_type": "code",
      "execution_count": null,
      "metadata": {
        "colab": {
          "base_uri": "https://localhost:8080/"
        },
        "id": "-quAzElTDYVO",
        "outputId": "41e7bc6f-e18d-4ad1-81dd-0ce4ec11e90a"
      },
      "outputs": [
        {
          "output_type": "execute_result",
          "data": {
            "text/plain": [
              "['README.md',\n",
              " 'anscombe.json',\n",
              " 'mnist_train_small.csv',\n",
              " 'mnist_test.csv',\n",
              " 'california_housing_test.csv',\n",
              " 'california_housing_train.csv',\n",
              " '.ipynb_checkpoints',\n",
              " 'dataset',\n",
              " 'figures',\n",
              " 'utils',\n",
              " '__pycache__',\n",
              " 'data_loader',\n",
              " 'models',\n",
              " 'output',\n",
              " 'collected',\n",
              " 'main.py',\n",
              " 'Traffic_Forecasting.ipynb']"
            ]
          },
          "metadata": {},
          "execution_count": 21
        }
      ],
      "source": [
        "\n",
        "os.listdir()"
      ]
    },
    {
      "cell_type": "code",
      "execution_count": null,
      "metadata": {
        "id": "75jsNUTtDa9v"
      },
      "outputs": [],
      "source": [
        "os.chdir('drive/MyDrive')"
      ]
    },
    {
      "cell_type": "code",
      "execution_count": null,
      "metadata": {
        "id": "qgOwW5BKDe99",
        "colab": {
          "base_uri": "https://localhost:8080/"
        },
        "outputId": "1decb9d2-5ea5-43af-9306-c06a2f41572c"
      },
      "outputs": [
        {
          "output_type": "execute_result",
          "data": {
            "text/plain": [
              "['README.md',\n",
              " 'anscombe.json',\n",
              " 'mnist_train_small.csv',\n",
              " 'mnist_test.csv',\n",
              " 'california_housing_test.csv',\n",
              " 'california_housing_train.csv',\n",
              " '.ipynb_checkpoints',\n",
              " 'dataset',\n",
              " 'figures',\n",
              " 'utils',\n",
              " '__pycache__',\n",
              " 'data_loader',\n",
              " 'models',\n",
              " 'output',\n",
              " 'collected',\n",
              " 'main.py',\n",
              " 'Traffic_Forecasting.ipynb']"
            ]
          },
          "metadata": {},
          "execution_count": 19
        }
      ],
      "source": [
        "os.listdir()"
      ]
    },
    {
      "cell_type": "code",
      "execution_count": null,
      "metadata": {
        "id": "vLyh2bgVDh6F"
      },
      "outputs": [],
      "source": [
        "os.listdir()"
      ]
    },
    {
      "cell_type": "code",
      "execution_count": null,
      "metadata": {
        "id": "Zzw4htckD3li"
      },
      "outputs": [],
      "source": [
        "os.chdir('Colab Notebooks')\n"
      ]
    },
    {
      "cell_type": "code",
      "execution_count": null,
      "metadata": {
        "colab": {
          "base_uri": "https://localhost:8080/"
        },
        "id": "CFA5S1oGD8zn",
        "outputId": "209cc45f-87d3-45d6-dde9-d53abc574035"
      },
      "outputs": [
        {
          "data": {
            "text/plain": [
              "['Copy of Introduction_to_python_and_concepts_for_NLP.ipynb',\n",
              " 'Copy of Assignment - Integers, Floats & Booleans.ipynb',\n",
              " 'Numpy_Introduction.ipynb',\n",
              " 'Numpy',\n",
              " 'FIle handling']"
            ]
          },
          "execution_count": 15,
          "metadata": {},
          "output_type": "execute_result"
        }
      ],
      "source": [
        "os.listdir()"
      ]
    },
    {
      "cell_type": "code",
      "execution_count": null,
      "metadata": {
        "id": "1EQS-WRQEC9Y"
      },
      "outputs": [],
      "source": [
        "\n",
        "os.chdir('..')"
      ]
    },
    {
      "cell_type": "code",
      "execution_count": null,
      "metadata": {
        "id": "dhAghL-4EGSr"
      },
      "outputs": [],
      "source": [
        "os.listdir()\n"
      ]
    },
    {
      "cell_type": "code",
      "execution_count": null,
      "metadata": {
        "id": "Cj9p48kREI-B"
      },
      "outputs": [],
      "source": [
        "os.chdir('sample_data')"
      ]
    },
    {
      "cell_type": "code",
      "execution_count": null,
      "metadata": {
        "id": "dxYkjxYnENUB"
      },
      "outputs": [],
      "source": [
        "os.listdir()"
      ]
    },
    {
      "cell_type": "code",
      "execution_count": null,
      "metadata": {
        "colab": {
          "base_uri": "https://localhost:8080/"
        },
        "id": "LDJfua5TEPCX",
        "outputId": "0d38353c-4390-47c4-c464-9901a633372d"
      },
      "outputs": [
        {
          "name": "stdout",
          "output_type": "stream",
          "text": [
            "2023-04-10 12:09:09.033592: I tensorflow/core/platform/cpu_feature_guard.cc:182] This TensorFlow binary is optimized to use available CPU instructions in performance-critical operations.\n",
            "To enable the following instructions: AVX2 FMA, in other operations, rebuild TensorFlow with the appropriate compiler flags.\n",
            "2023-04-10 12:09:09.946792: W tensorflow/compiler/tf2tensorrt/utils/py_utils.cc:38] TF-TRT Warning: Could not find TensorRT\n",
            "WARNING:tensorflow:From /usr/local/lib/python3.9/dist-packages/tensorflow/python/compat/v2_compat.py:107: disable_resource_variables (from tensorflow.python.ops.variable_scope) is deprecated and will be removed in a future version.\n",
            "Instructions for updating:\n",
            "non-resource variables are not supported in the long term\n",
            "2023-04-10 12:09:11.037577: I tensorflow/compiler/xla/stream_executor/cuda/cuda_gpu_executor.cc:996] successful NUMA node read from SysFS had negative value (-1), but there must be at least one NUMA node, so returning NUMA node zero. See more at https://github.com/torvalds/linux/blob/v6.0/Documentation/ABI/testing/sysfs-bus-pci#L344-L355\n",
            "2023-04-10 12:09:11.069925: I tensorflow/compiler/xla/stream_executor/cuda/cuda_gpu_executor.cc:996] successful NUMA node read from SysFS had negative value (-1), but there must be at least one NUMA node, so returning NUMA node zero. See more at https://github.com/torvalds/linux/blob/v6.0/Documentation/ABI/testing/sysfs-bus-pci#L344-L355\n",
            "2023-04-10 12:09:11.070205: I tensorflow/compiler/xla/stream_executor/cuda/cuda_gpu_executor.cc:996] successful NUMA node read from SysFS had negative value (-1), but there must be at least one NUMA node, so returning NUMA node zero. See more at https://github.com/torvalds/linux/blob/v6.0/Documentation/ABI/testing/sysfs-bus-pci#L344-L355\n",
            "2023-04-10 12:09:12.079135: I tensorflow/compiler/xla/stream_executor/cuda/cuda_gpu_executor.cc:996] successful NUMA node read from SysFS had negative value (-1), but there must be at least one NUMA node, so returning NUMA node zero. See more at https://github.com/torvalds/linux/blob/v6.0/Documentation/ABI/testing/sysfs-bus-pci#L344-L355\n",
            "2023-04-10 12:09:12.079411: I tensorflow/compiler/xla/stream_executor/cuda/cuda_gpu_executor.cc:996] successful NUMA node read from SysFS had negative value (-1), but there must be at least one NUMA node, so returning NUMA node zero. See more at https://github.com/torvalds/linux/blob/v6.0/Documentation/ABI/testing/sysfs-bus-pci#L344-L355\n",
            "2023-04-10 12:09:12.079624: I tensorflow/compiler/xla/stream_executor/cuda/cuda_gpu_executor.cc:996] successful NUMA node read from SysFS had negative value (-1), but there must be at least one NUMA node, so returning NUMA node zero. See more at https://github.com/torvalds/linux/blob/v6.0/Documentation/ABI/testing/sysfs-bus-pci#L344-L355\n",
            "2023-04-10 12:09:12.079797: I tensorflow/core/common_runtime/gpu/gpu_device.cc:1635] Created device /job:localhost/replica:0/task:0/device:GPU:0 with 13678 MB memory:  -> device: 0, name: Tesla T4, pci bus id: 0000:00:04.0, compute capability: 7.5\n",
            "Training configs: Namespace(n_route=228, n_his=12, n_pred=9, batch_size=50, epoch=50, save=10, ks=3, kt=3, lr=0.001, opt='RMSProp', graph='PeMSD7_W_228.csv', inf_mode='merge')\n",
            ">> Loading dataset with Mean: 58.50, STD: 13.73\n",
            "WARNING:tensorflow:From /usr/local/lib/python3.9/dist-packages/tensorflow/python/util/dispatch.py:1176: calling dropout (from tensorflow.python.ops.nn_ops) with keep_prob is deprecated and will be removed in a future version.\n",
            "Instructions for updating:\n",
            "Please use `rate` instead of `keep_prob`. Rate should be set to `rate = 1 - keep_prob`.\n",
            "WARNING:tensorflow:From /usr/local/lib/python3.9/dist-packages/tensorflow/python/training/rmsprop.py:188: calling Ones.__init__ (from tensorflow.python.ops.init_ops) with dtype is deprecated and will be removed in a future version.\n",
            "Instructions for updating:\n",
            "Call initializer instance with the dtype argument instead of passing it to the constructor\n",
            "2023-04-10 12:09:15.634347: I tensorflow/compiler/xla/stream_executor/cuda/cuda_gpu_executor.cc:996] successful NUMA node read from SysFS had negative value (-1), but there must be at least one NUMA node, so returning NUMA node zero. See more at https://github.com/torvalds/linux/blob/v6.0/Documentation/ABI/testing/sysfs-bus-pci#L344-L355\n",
            "2023-04-10 12:09:15.634731: I tensorflow/compiler/xla/stream_executor/cuda/cuda_gpu_executor.cc:996] successful NUMA node read from SysFS had negative value (-1), but there must be at least one NUMA node, so returning NUMA node zero. See more at https://github.com/torvalds/linux/blob/v6.0/Documentation/ABI/testing/sysfs-bus-pci#L344-L355\n",
            "2023-04-10 12:09:15.634949: I tensorflow/compiler/xla/stream_executor/cuda/cuda_gpu_executor.cc:996] successful NUMA node read from SysFS had negative value (-1), but there must be at least one NUMA node, so returning NUMA node zero. See more at https://github.com/torvalds/linux/blob/v6.0/Documentation/ABI/testing/sysfs-bus-pci#L344-L355\n",
            "2023-04-10 12:09:15.635404: I tensorflow/compiler/xla/stream_executor/cuda/cuda_gpu_executor.cc:996] successful NUMA node read from SysFS had negative value (-1), but there must be at least one NUMA node, so returning NUMA node zero. See more at https://github.com/torvalds/linux/blob/v6.0/Documentation/ABI/testing/sysfs-bus-pci#L344-L355\n",
            "2023-04-10 12:09:15.635817: I tensorflow/compiler/xla/stream_executor/cuda/cuda_gpu_executor.cc:996] successful NUMA node read from SysFS had negative value (-1), but there must be at least one NUMA node, so returning NUMA node zero. See more at https://github.com/torvalds/linux/blob/v6.0/Documentation/ABI/testing/sysfs-bus-pci#L344-L355\n",
            "2023-04-10 12:09:15.636028: I tensorflow/compiler/xla/stream_executor/cuda/cuda_gpu_executor.cc:996] successful NUMA node read from SysFS had negative value (-1), but there must be at least one NUMA node, so returning NUMA node zero. See more at https://github.com/torvalds/linux/blob/v6.0/Documentation/ABI/testing/sysfs-bus-pci#L344-L355\n",
            "2023-04-10 12:09:15.636277: I tensorflow/compiler/xla/stream_executor/cuda/cuda_gpu_executor.cc:996] successful NUMA node read from SysFS had negative value (-1), but there must be at least one NUMA node, so returning NUMA node zero. See more at https://github.com/torvalds/linux/blob/v6.0/Documentation/ABI/testing/sysfs-bus-pci#L344-L355\n",
            "2023-04-10 12:09:15.636472: I tensorflow/compiler/xla/stream_executor/cuda/cuda_gpu_executor.cc:996] successful NUMA node read from SysFS had negative value (-1), but there must be at least one NUMA node, so returning NUMA node zero. See more at https://github.com/torvalds/linux/blob/v6.0/Documentation/ABI/testing/sysfs-bus-pci#L344-L355\n",
            "2023-04-10 12:09:15.636637: I tensorflow/core/common_runtime/gpu/gpu_device.cc:1635] Created device /job:localhost/replica:0/task:0/device:GPU:0 with 13678 MB memory:  -> device: 0, name: Tesla T4, pci bus id: 0000:00:04.0, compute capability: 7.5\n",
            "2023-04-10 12:09:16.359728: I tensorflow/compiler/mlir/mlir_graph_optimization_pass.cc:353] MLIR V1 optimization pass is not enabled\n",
            "2023-04-10 12:09:21.085447: I tensorflow/compiler/xla/stream_executor/cuda/cuda_dnn.cc:424] Loaded cuDNN version 8700\n",
            "Epoch  0, Step   0: [15345.247, 170.771]\n",
            "Epoch  0, Step  50: [461.138, 173.318]\n",
            "Epoch  0, Step 100: [250.875, 181.870]\n",
            "Epoch  0, Step 150: [268.002, 160.514]\n",
            "Epoch  0 Training Time 24.273s\n",
            "Time Step 3: MAPE  7.041%,  6.689%; MAE  2.880, 2.817; RMSE  5.045,  4.976.\n",
            "Time Step 6: MAPE 10.114%,  9.673%; MAE  4.073, 4.000; RMSE  7.404,  7.364.\n",
            "Time Step 9: MAPE 12.408%, 11.996%; MAE  4.915, 4.850; RMSE  8.967,  8.981.\n",
            "Epoch  0 Inference Time 10.092s\n",
            "Epoch  1, Step   0: [196.876, 177.524]\n",
            "Epoch  1, Step  50: [266.739, 185.945]\n",
            "Epoch  1, Step 100: [216.158, 175.143]\n",
            "Epoch  1, Step 150: [212.360, 173.775]\n",
            "Epoch  1 Training Time 10.436s\n",
            "Time Step 3: MAPE  6.937%,  6.786%; MAE  2.880, 2.891; RMSE  4.987,  4.975.\n",
            "Time Step 6: MAPE 10.114%, 10.397%; MAE  4.073, 4.207; RMSE  7.404,  7.583.\n",
            "Time Step 9: MAPE 12.408%, 13.415%; MAE  4.915, 5.165; RMSE  8.967,  9.442.\n",
            "Epoch  1 Inference Time 9.770s\n",
            "Epoch  2, Step   0: [173.398, 155.702]\n",
            "Epoch  2, Step  50: [190.675, 157.989]\n",
            "Epoch  2, Step 100: [187.665, 176.695]\n",
            "Epoch  2, Step 150: [213.029, 172.147]\n",
            "Epoch  2 Training Time 10.480s\n",
            "Time Step 3: MAPE  6.885%,  6.710%; MAE  2.880, 3.110; RMSE  4.987,  4.996.\n",
            "Time Step 6: MAPE  9.846%,  9.553%; MAE  4.073, 4.413; RMSE  7.317,  7.284.\n",
            "Time Step 9: MAPE 12.171%, 11.840%; MAE  4.915, 5.371; RMSE  8.844,  8.829.\n",
            "Epoch  2 Inference Time 9.854s\n",
            "Epoch  3, Step   0: [164.259, 157.580]\n",
            "Epoch  3, Step  50: [181.212, 186.678]\n",
            "Epoch  3, Step 100: [182.714, 179.029]\n",
            "Epoch  3, Step 150: [231.825, 191.796]\n",
            "Epoch  3 Training Time 10.561s\n",
            "Time Step 3: MAPE  6.885%,  6.717%; MAE  2.880, 2.939; RMSE  4.760,  4.721.\n",
            "Time Step 6: MAPE  9.846%, 10.204%; MAE  4.073, 4.289; RMSE  7.087,  7.008.\n",
            "Time Step 9: MAPE 12.171%, 13.428%; MAE  4.915, 5.405; RMSE  8.781,  8.773.\n",
            "Epoch  3 Inference Time 9.911s\n",
            "Epoch  4, Step   0: [212.982, 211.509]\n",
            "Epoch  4, Step  50: [229.519, 189.323]\n",
            "Epoch  4, Step 100: [225.635, 193.501]\n",
            "Epoch  4, Step 150: [156.245, 166.413]\n",
            "Epoch  4 Training Time 10.636s\n",
            "Time Step 3: MAPE  6.123%,  6.086%; MAE  2.745, 2.785; RMSE  4.594,  4.642.\n",
            "Time Step 6: MAPE  8.970%,  8.939%; MAE  4.053, 4.120; RMSE  6.941,  7.014.\n",
            "Time Step 9: MAPE 11.109%, 11.052%; MAE  4.915, 5.103; RMSE  8.605,  8.719.\n",
            "Epoch  4 Inference Time 9.866s\n",
            "Epoch  5, Step   0: [148.054, 170.059]\n",
            "Epoch  5, Step  50: [193.242, 201.384]\n",
            "Epoch  5, Step 100: [174.599, 183.096]\n",
            "Epoch  5, Step 150: [185.055, 176.209]\n",
            "Epoch  5 Training Time 10.746s\n",
            "Time Step 3: MAPE  5.980%,  5.766%; MAE  2.509, 2.484; RMSE  4.414,  4.403.\n",
            "Time Step 6: MAPE  8.860%,  8.481%; MAE  3.579, 3.512; RMSE  6.533,  6.472.\n",
            "Time Step 9: MAPE 11.109%, 10.695%; MAE  4.405, 4.306; RMSE  8.039,  7.946.\n",
            "Epoch  5 Inference Time 9.985s\n",
            "Epoch  6, Step   0: [146.272, 183.121]\n",
            "Epoch  6, Step  50: [174.205, 184.648]\n",
            "Epoch  6, Step 100: [167.524, 191.644]\n",
            "Epoch  6, Step 150: [184.443, 188.620]\n",
            "Epoch  6 Training Time 10.771s\n",
            "Time Step 3: MAPE  5.964%,  5.858%; MAE  2.453, 2.476; RMSE  4.402,  4.439.\n",
            "Time Step 6: MAPE  8.738%,  8.550%; MAE  3.458, 3.510; RMSE  6.522,  6.578.\n",
            "Time Step 9: MAPE 10.717%, 10.481%; MAE  4.176, 4.246; RMSE  7.901,  7.988.\n",
            "Epoch  6 Inference Time 10.035s\n",
            "Epoch  7, Step   0: [217.410, 263.591]\n",
            "Epoch  7, Step  50: [143.568, 178.815]\n",
            "Epoch  7, Step 100: [146.250, 164.068]\n",
            "Epoch  7, Step 150: [186.711, 205.684]\n",
            "Epoch  7 Training Time 10.865s\n",
            "Time Step 3: MAPE  5.830%,  5.721%; MAE  2.449, 2.464; RMSE  4.317,  4.342.\n",
            "Time Step 6: MAPE  8.582%,  8.319%; MAE  3.458, 3.458; RMSE  6.350,  6.340.\n",
            "Time Step 9: MAPE 10.717%, 10.453%; MAE  4.176, 4.227; RMSE  7.810,  7.774.\n",
            "Epoch  7 Inference Time 10.090s\n",
            "Epoch  8, Step   0: [143.436, 181.242]\n",
            "Epoch  8, Step  50: [152.674, 186.346]\n",
            "Epoch  8, Step 100: [134.286, 164.457]\n",
            "Epoch  8, Step 150: [170.848, 180.866]\n",
            "Epoch  8 Training Time 10.891s\n",
            "Time Step 3: MAPE  5.808%,  5.740%; MAE  2.441, 2.466; RMSE  4.317,  4.349.\n",
            "Time Step 6: MAPE  8.582%,  8.643%; MAE  3.450, 3.500; RMSE  6.350,  6.398.\n",
            "Time Step 9: MAPE 10.717%, 11.388%; MAE  4.176, 4.361; RMSE  7.810,  8.009.\n",
            "Epoch  8 Inference Time 10.097s\n",
            "Epoch  9, Step   0: [168.222, 212.721]\n",
            "Epoch  9, Step  50: [199.492, 184.383]\n",
            "Epoch  9, Step 100: [155.365, 177.884]\n",
            "Epoch  9, Step 150: [135.942, 150.714]\n",
            "Epoch  9 Training Time 10.967s\n",
            "Time Step 3: MAPE  5.808%,  5.740%; MAE  2.441, 2.466; RMSE  4.317,  4.349.\n",
            "Time Step 6: MAPE  8.582%,  8.643%; MAE  3.450, 3.500; RMSE  6.350,  6.398.\n",
            "Time Step 9: MAPE 10.717%, 11.388%; MAE  4.176, 4.361; RMSE  7.810,  8.009.\n",
            "Epoch  9 Inference Time 5.086s\n",
            "<< Saving model to ./output/models/STGCN-1830 ...\n",
            "Epoch 10, Step   0: [147.397, 188.905]\n",
            "Epoch 10, Step  50: [173.139, 193.882]\n",
            "Epoch 10, Step 100: [136.211, 166.972]\n",
            "Epoch 10, Step 150: [140.148, 182.638]\n",
            "Epoch 10 Training Time 10.945s\n",
            "Time Step 3: MAPE  5.627%,  5.621%; MAE  2.413, 2.471; RMSE  4.285,  4.374.\n",
            "Time Step 6: MAPE  8.129%,  8.098%; MAE  3.384, 3.478; RMSE  6.281,  6.414.\n",
            "Time Step 9: MAPE 10.125%,  9.980%; MAE  4.094, 4.209; RMSE  7.663,  7.818.\n",
            "Epoch 10 Inference Time 10.216s\n",
            "Epoch 11, Step   0: [138.918, 173.354]\n",
            "Epoch 11, Step  50: [148.180, 177.746]\n",
            "Epoch 11, Step 100: [152.668, 188.904]\n",
            "Epoch 11, Step 150: [137.211, 173.378]\n",
            "Epoch 11 Training Time 11.003s\n",
            "Time Step 3: MAPE  5.452%,  5.415%; MAE  2.312, 2.335; RMSE  4.149,  4.206.\n",
            "Time Step 6: MAPE  7.798%,  7.717%; MAE  3.209, 3.242; RMSE  5.988,  6.059.\n",
            "Time Step 9: MAPE  9.691%,  9.508%; MAE  3.898, 3.931; RMSE  7.269,  7.338.\n",
            "Epoch 11 Inference Time 10.206s\n",
            "Epoch 12, Step   0: [137.726, 179.477]\n",
            "Epoch 12, Step  50: [144.149, 187.529]\n",
            "Epoch 12, Step 100: [143.941, 174.174]\n",
            "Epoch 12, Step 150: [138.652, 156.365]\n",
            "Epoch 12 Training Time 11.013s\n",
            "Time Step 3: MAPE  5.452%,  5.415%; MAE  2.312, 2.335; RMSE  4.149,  4.206.\n",
            "Time Step 6: MAPE  7.798%,  7.717%; MAE  3.209, 3.242; RMSE  5.988,  6.059.\n",
            "Time Step 9: MAPE  9.691%,  9.508%; MAE  3.898, 3.931; RMSE  7.269,  7.338.\n",
            "Epoch 12 Inference Time 5.130s\n",
            "Epoch 13, Step   0: [149.166, 199.252]\n",
            "Epoch 13, Step  50: [160.801, 159.685]\n",
            "Epoch 13, Step 100: [135.434, 178.231]\n",
            "Epoch 13, Step 150: [152.420, 184.571]\n",
            "Epoch 13 Training Time 11.073s\n",
            "Time Step 3: MAPE  5.452%,  5.415%; MAE  2.312, 2.335; RMSE  4.149,  4.206.\n",
            "Time Step 6: MAPE  7.798%,  7.717%; MAE  3.209, 3.242; RMSE  5.988,  6.059.\n",
            "Time Step 9: MAPE  9.691%,  9.508%; MAE  3.898, 3.931; RMSE  7.269,  7.338.\n",
            "Epoch 13 Inference Time 5.120s\n",
            "Epoch 14, Step   0: [115.091, 156.693]\n",
            "Epoch 14, Step  50: [144.658, 186.713]\n",
            "Epoch 14, Step 100: [135.914, 164.141]\n",
            "Epoch 14, Step 150: [147.048, 202.505]\n",
            "Epoch 14 Training Time 11.076s\n",
            "Time Step 3: MAPE  5.452%,  5.415%; MAE  2.312, 2.335; RMSE  4.149,  4.206.\n",
            "Time Step 6: MAPE  7.798%,  7.717%; MAE  3.209, 3.242; RMSE  5.988,  6.059.\n",
            "Time Step 9: MAPE  9.691%,  9.508%; MAE  3.898, 3.931; RMSE  7.269,  7.338.\n",
            "Epoch 14 Inference Time 5.128s\n",
            "Epoch 15, Step   0: [140.317, 185.466]\n",
            "Epoch 15, Step  50: [139.422, 173.142]\n",
            "Epoch 15, Step 100: [129.549, 174.538]\n",
            "Epoch 15, Step 150: [125.392, 159.114]\n",
            "Epoch 15 Training Time 11.097s\n",
            "Time Step 3: MAPE  5.400%,  5.342%; MAE  2.264, 2.289; RMSE  4.095,  4.141.\n",
            "Time Step 6: MAPE  7.745%,  7.657%; MAE  3.116, 3.160; RMSE  5.874,  5.940.\n",
            "Time Step 9: MAPE  9.639%,  9.432%; MAE  3.767, 3.808; RMSE  7.100,  7.159.\n",
            "Epoch 15 Inference Time 10.302s\n",
            "Epoch 16, Step   0: [128.723, 181.762]\n",
            "Epoch 16, Step  50: [115.980, 152.707]\n",
            "Epoch 16, Step 100: [149.992, 189.394]\n",
            "Epoch 16, Step 150: [140.795, 177.919]\n",
            "Epoch 16 Training Time 11.086s\n",
            "Time Step 3: MAPE  5.400%,  5.537%; MAE  2.264, 2.302; RMSE  4.095,  4.181.\n",
            "Time Step 6: MAPE  7.745%,  8.048%; MAE  3.116, 3.178; RMSE  5.874,  6.035.\n",
            "Time Step 9: MAPE  9.639%,  9.898%; MAE  3.741, 3.799; RMSE  7.100,  7.265.\n",
            "Epoch 16 Inference Time 10.316s\n",
            "Epoch 17, Step   0: [120.950, 161.672]\n",
            "Epoch 17, Step  50: [131.604, 174.149]\n",
            "Epoch 17, Step 100: [110.678, 138.447]\n",
            "Epoch 17, Step 150: [116.698, 151.509]\n",
            "Epoch 17 Training Time 11.129s\n",
            "Time Step 3: MAPE  5.400%,  5.537%; MAE  2.264, 2.302; RMSE  4.095,  4.181.\n",
            "Time Step 6: MAPE  7.745%,  8.048%; MAE  3.116, 3.178; RMSE  5.874,  6.035.\n",
            "Time Step 9: MAPE  9.639%,  9.898%; MAE  3.741, 3.799; RMSE  7.100,  7.265.\n",
            "Epoch 17 Inference Time 5.209s\n",
            "Epoch 18, Step   0: [116.429, 164.321]\n",
            "Epoch 18, Step  50: [115.433, 151.052]\n",
            "Epoch 18, Step 100: [111.701, 139.629]\n",
            "Epoch 18, Step 150: [131.914, 177.283]\n",
            "Epoch 18 Training Time 11.155s\n",
            "Time Step 3: MAPE  5.400%,  5.537%; MAE  2.264, 2.302; RMSE  4.095,  4.181.\n",
            "Time Step 6: MAPE  7.745%,  8.048%; MAE  3.116, 3.178; RMSE  5.874,  6.035.\n",
            "Time Step 9: MAPE  9.639%,  9.898%; MAE  3.741, 3.799; RMSE  7.100,  7.265.\n",
            "Epoch 18 Inference Time 5.171s\n",
            "Epoch 19, Step   0: [125.976, 170.792]\n",
            "Epoch 19, Step  50: [133.318, 177.239]\n",
            "Epoch 19, Step 100: [154.129, 186.177]\n",
            "Epoch 19, Step 150: [132.082, 171.185]\n",
            "Epoch 19 Training Time 11.155s\n",
            "Time Step 3: MAPE  5.400%,  5.402%; MAE  2.252, 2.283; RMSE  4.081,  4.117.\n",
            "Time Step 6: MAPE  7.745%,  7.773%; MAE  3.067, 3.131; RMSE  5.824,  5.886.\n",
            "Time Step 9: MAPE  9.639%,  9.549%; MAE  3.670, 3.747; RMSE  7.017,  7.073.\n",
            "Epoch 19 Inference Time 10.401s\n",
            "<< Saving model to ./output/models/STGCN-3660 ...\n",
            "Epoch 20, Step   0: [128.757, 173.675]\n",
            "Epoch 20, Step  50: [122.408, 167.239]\n",
            "Epoch 20, Step 100: [121.654, 176.790]\n",
            "Epoch 20, Step 150: [123.642, 168.751]\n",
            "Epoch 20 Training Time 11.139s\n",
            "Time Step 3: MAPE  5.400%,  5.517%; MAE  2.252, 2.313; RMSE  4.081,  4.173.\n",
            "Time Step 6: MAPE  7.745%,  7.918%; MAE  3.067, 3.190; RMSE  5.824,  6.017.\n",
            "Time Step 9: MAPE  9.588%,  9.509%; MAE  3.670, 3.786; RMSE  7.017,  7.170.\n",
            "Epoch 20 Inference Time 10.343s\n",
            "Epoch 21, Step   0: [134.303, 187.427]\n",
            "Epoch 21, Step  50: [116.095, 169.932]\n",
            "Epoch 21, Step 100: [139.513, 194.437]\n",
            "Epoch 21, Step 150: [122.721, 182.904]\n",
            "Epoch 21 Training Time 11.139s\n",
            "Time Step 3: MAPE  5.394%,  5.345%; MAE  2.252, 2.315; RMSE  4.081,  4.167.\n",
            "Time Step 6: MAPE  7.731%,  7.673%; MAE  3.067, 3.249; RMSE  5.824,  6.075.\n",
            "Time Step 9: MAPE  9.483%,  9.322%; MAE  3.670, 3.956; RMSE  7.017,  7.450.\n",
            "Epoch 21 Inference Time 10.360s\n",
            "Epoch 22, Step   0: [116.694, 156.450]\n",
            "Epoch 22, Step  50: [134.148, 187.683]\n",
            "Epoch 22, Step 100: [96.529, 146.660]\n",
            "Epoch 22, Step 150: [130.103, 175.121]\n",
            "Epoch 22 Training Time 11.162s\n",
            "Time Step 3: MAPE  5.342%,  5.295%; MAE  2.232, 2.258; RMSE  4.054,  4.092.\n",
            "Time Step 6: MAPE  7.716%,  7.641%; MAE  3.058, 3.105; RMSE  5.789,  5.839.\n",
            "Time Step 9: MAPE  9.483%,  9.532%; MAE  3.670, 3.750; RMSE  7.017,  7.055.\n",
            "Epoch 22 Inference Time 10.332s\n",
            "Epoch 23, Step   0: [112.898, 160.492]\n",
            "Epoch 23, Step  50: [148.090, 199.391]\n",
            "Epoch 23, Step 100: [118.886, 158.900]\n",
            "Epoch 23, Step 150: [122.733, 163.340]\n",
            "Epoch 23 Training Time 11.166s\n",
            "Time Step 3: MAPE  5.342%,  5.369%; MAE  2.232, 2.304; RMSE  4.054,  4.152.\n",
            "Time Step 6: MAPE  7.713%,  7.675%; MAE  3.058, 3.176; RMSE  5.789,  5.972.\n",
            "Time Step 9: MAPE  9.483%,  9.338%; MAE  3.670, 3.804; RMSE  7.017,  7.207.\n",
            "Epoch 23 Inference Time 10.365s\n",
            "Epoch 24, Step   0: [121.642, 168.180]\n",
            "Epoch 24, Step  50: [132.705, 178.070]\n",
            "Epoch 24, Step 100: [126.854, 178.808]\n",
            "Epoch 24, Step 150: [140.119, 196.235]\n",
            "Epoch 24 Training Time 11.168s\n",
            "Time Step 3: MAPE  5.342%,  5.369%; MAE  2.232, 2.304; RMSE  4.054,  4.152.\n",
            "Time Step 6: MAPE  7.713%,  7.675%; MAE  3.058, 3.176; RMSE  5.789,  5.972.\n",
            "Time Step 9: MAPE  9.483%,  9.338%; MAE  3.670, 3.804; RMSE  7.017,  7.207.\n",
            "Epoch 24 Inference Time 5.164s\n",
            "Epoch 25, Step   0: [140.270, 210.501]\n",
            "Epoch 25, Step  50: [122.646, 177.919]\n",
            "Epoch 25, Step 100: [131.621, 177.336]\n",
            "Epoch 25, Step 150: [120.864, 175.021]\n",
            "Epoch 25 Training Time 11.175s\n",
            "Time Step 3: MAPE  5.335%,  5.293%; MAE  2.232, 2.264; RMSE  4.054,  4.113.\n",
            "Time Step 6: MAPE  7.617%,  7.609%; MAE  3.058, 3.121; RMSE  5.789,  5.896.\n",
            "Time Step 9: MAPE  9.385%,  9.289%; MAE  3.670, 3.739; RMSE  7.014,  7.084.\n",
            "Epoch 25 Inference Time 10.396s\n",
            "Epoch 26, Step   0: [122.326, 176.301]\n",
            "Epoch 26, Step  50: [117.214, 177.051]\n",
            "Epoch 26, Step 100: [107.133, 153.101]\n",
            "Epoch 26, Step 150: [118.437, 179.377]\n",
            "Epoch 26 Training Time 11.156s\n",
            "Time Step 3: MAPE  5.293%,  5.223%; MAE  2.232, 2.251; RMSE  4.043,  4.068.\n",
            "Time Step 6: MAPE  7.463%,  7.383%; MAE  3.058, 3.084; RMSE  5.747,  5.770.\n",
            "Time Step 9: MAPE  9.161%,  8.986%; MAE  3.670, 3.707; RMSE  6.921,  6.919.\n",
            "Epoch 26 Inference Time 10.360s\n",
            "Epoch 27, Step   0: [124.767, 177.258]\n",
            "Epoch 27, Step  50: [112.724, 169.085]\n",
            "Epoch 27, Step 100: [117.945, 161.837]\n",
            "Epoch 27, Step 150: [130.559, 194.893]\n",
            "Epoch 27 Training Time 11.156s\n",
            "Time Step 3: MAPE  5.293%,  5.223%; MAE  2.232, 2.251; RMSE  4.043,  4.068.\n",
            "Time Step 6: MAPE  7.463%,  7.383%; MAE  3.058, 3.084; RMSE  5.747,  5.770.\n",
            "Time Step 9: MAPE  9.161%,  8.986%; MAE  3.670, 3.707; RMSE  6.921,  6.919.\n",
            "Epoch 27 Inference Time 5.213s\n",
            "Epoch 28, Step   0: [124.744, 185.931]\n",
            "Epoch 28, Step  50: [119.872, 179.898]\n",
            "Epoch 28, Step 100: [109.376, 156.760]\n",
            "Epoch 28, Step 150: [121.465, 168.770]\n",
            "Epoch 28 Training Time 11.151s\n",
            "Time Step 3: MAPE  5.293%,  5.425%; MAE  2.232, 2.263; RMSE  4.043,  4.090.\n",
            "Time Step 6: MAPE  7.463%,  7.796%; MAE  3.043, 3.099; RMSE  5.746,  5.827.\n",
            "Time Step 9: MAPE  9.161%,  9.523%; MAE  3.648, 3.707; RMSE  6.894,  6.960.\n",
            "Epoch 28 Inference Time 10.334s\n",
            "Epoch 29, Step   0: [123.145, 173.261]\n",
            "Epoch 29, Step  50: [125.037, 176.317]\n",
            "Epoch 29, Step 100: [136.381, 197.076]\n",
            "Epoch 29, Step 150: [110.498, 160.929]\n",
            "Epoch 29 Training Time 11.158s\n",
            "Time Step 3: MAPE  5.293%,  5.425%; MAE  2.232, 2.263; RMSE  4.043,  4.090.\n",
            "Time Step 6: MAPE  7.463%,  7.796%; MAE  3.043, 3.099; RMSE  5.746,  5.827.\n",
            "Time Step 9: MAPE  9.161%,  9.523%; MAE  3.648, 3.707; RMSE  6.894,  6.960.\n",
            "Epoch 29 Inference Time 5.189s\n",
            "<< Saving model to ./output/models/STGCN-5490 ...\n",
            "Epoch 30, Step   0: [115.230, 160.386]\n",
            "Epoch 30, Step  50: [112.963, 159.532]\n",
            "Epoch 30, Step 100: [115.496, 159.666]\n",
            "Epoch 30, Step 150: [127.015, 193.967]\n",
            "Epoch 30 Training Time 11.157s\n",
            "Time Step 3: MAPE  5.293%,  5.425%; MAE  2.232, 2.263; RMSE  4.043,  4.090.\n",
            "Time Step 6: MAPE  7.463%,  7.796%; MAE  3.043, 3.099; RMSE  5.746,  5.827.\n",
            "Time Step 9: MAPE  9.161%,  9.523%; MAE  3.648, 3.707; RMSE  6.894,  6.960.\n",
            "Epoch 30 Inference Time 5.205s\n",
            "Epoch 31, Step   0: [118.416, 172.471]\n",
            "Epoch 31, Step  50: [114.579, 178.002]\n",
            "Epoch 31, Step 100: [120.561, 156.477]\n",
            "Epoch 31, Step 150: [123.148, 171.842]\n",
            "Epoch 31 Training Time 11.190s\n",
            "Time Step 3: MAPE  5.293%,  5.286%; MAE  2.222, 2.239; RMSE  4.042,  4.075.\n",
            "Time Step 6: MAPE  7.463%,  7.495%; MAE  3.027, 3.058; RMSE  5.746,  5.805.\n",
            "Time Step 9: MAPE  9.161%,  9.067%; MAE  3.638, 3.663; RMSE  6.894,  6.973.\n",
            "Epoch 31 Inference Time 10.372s\n",
            "Epoch 32, Step   0: [117.382, 166.337]\n",
            "Epoch 32, Step  50: [130.559, 182.135]\n",
            "Epoch 32, Step 100: [120.366, 173.991]\n",
            "Epoch 32, Step 150: [120.034, 174.230]\n",
            "Epoch 32 Training Time 11.163s\n",
            "Time Step 3: MAPE  5.293%,  5.286%; MAE  2.222, 2.239; RMSE  4.042,  4.075.\n",
            "Time Step 6: MAPE  7.463%,  7.495%; MAE  3.027, 3.058; RMSE  5.746,  5.805.\n",
            "Time Step 9: MAPE  9.161%,  9.067%; MAE  3.638, 3.663; RMSE  6.894,  6.973.\n",
            "Epoch 32 Inference Time 5.222s\n",
            "Epoch 33, Step   0: [116.391, 160.566]\n",
            "Epoch 33, Step  50: [131.547, 183.444]\n",
            "Epoch 33, Step 100: [123.574, 176.455]\n",
            "Epoch 33, Step 150: [128.119, 183.607]\n",
            "Epoch 33 Training Time 11.158s\n",
            "Time Step 3: MAPE  5.293%,  5.278%; MAE  2.222, 2.246; RMSE  4.042,  4.090.\n",
            "Time Step 6: MAPE  7.463%,  7.540%; MAE  3.027, 3.078; RMSE  5.746,  5.841.\n",
            "Time Step 9: MAPE  9.161%,  9.149%; MAE  3.617, 3.681; RMSE  6.894,  6.996.\n",
            "Epoch 33 Inference Time 10.371s\n",
            "Epoch 34, Step   0: [124.704, 186.763]\n",
            "Epoch 34, Step  50: [133.526, 198.453]\n",
            "Epoch 34, Step 100: [116.388, 165.708]\n",
            "Epoch 34, Step 150: [115.446, 170.772]\n",
            "Epoch 34 Training Time 11.146s\n",
            "Time Step 3: MAPE  5.293%,  5.278%; MAE  2.222, 2.246; RMSE  4.042,  4.090.\n",
            "Time Step 6: MAPE  7.463%,  7.540%; MAE  3.027, 3.078; RMSE  5.746,  5.841.\n",
            "Time Step 9: MAPE  9.161%,  9.149%; MAE  3.617, 3.681; RMSE  6.894,  6.996.\n",
            "Epoch 34 Inference Time 5.178s\n",
            "Epoch 35, Step   0: [127.297, 189.877]\n",
            "Epoch 35, Step  50: [106.149, 166.768]\n",
            "Epoch 35, Step 100: [116.615, 165.439]\n",
            "Epoch 35, Step 150: [100.565, 147.625]\n",
            "Epoch 35 Training Time 11.157s\n",
            "Time Step 3: MAPE  5.293%,  5.278%; MAE  2.222, 2.246; RMSE  4.042,  4.090.\n",
            "Time Step 6: MAPE  7.463%,  7.540%; MAE  3.027, 3.078; RMSE  5.746,  5.841.\n",
            "Time Step 9: MAPE  9.161%,  9.149%; MAE  3.617, 3.681; RMSE  6.894,  6.996.\n",
            "Epoch 35 Inference Time 5.204s\n",
            "Epoch 36, Step   0: [126.622, 176.607]\n",
            "Epoch 36, Step  50: [127.738, 176.097]\n",
            "Epoch 36, Step 100: [120.379, 176.681]\n",
            "Epoch 36, Step 150: [127.431, 181.437]\n",
            "Epoch 36 Training Time 11.141s\n",
            "Time Step 3: MAPE  5.293%,  5.283%; MAE  2.220, 2.240; RMSE  4.042,  4.081.\n",
            "Time Step 6: MAPE  7.463%,  7.520%; MAE  3.013, 3.056; RMSE  5.746,  5.807.\n",
            "Time Step 9: MAPE  9.161%,  9.122%; MAE  3.597, 3.645; RMSE  6.894,  6.945.\n",
            "Epoch 36 Inference Time 10.325s\n",
            "Epoch 37, Step   0: [112.685, 169.049]\n",
            "Epoch 37, Step  50: [116.567, 174.754]\n",
            "Epoch 37, Step 100: [123.149, 188.824]\n",
            "Epoch 37, Step 150: [110.623, 165.742]\n",
            "Epoch 37 Training Time 11.147s\n",
            "Time Step 3: MAPE  5.293%,  5.283%; MAE  2.220, 2.240; RMSE  4.042,  4.081.\n",
            "Time Step 6: MAPE  7.463%,  7.520%; MAE  3.013, 3.056; RMSE  5.746,  5.807.\n",
            "Time Step 9: MAPE  9.161%,  9.122%; MAE  3.597, 3.645; RMSE  6.894,  6.945.\n",
            "Epoch 37 Inference Time 5.169s\n",
            "Epoch 38, Step   0: [125.527, 175.237]\n",
            "Epoch 38, Step  50: [115.317, 175.941]\n",
            "Epoch 38, Step 100: [109.657, 157.105]\n",
            "Epoch 38, Step 150: [117.390, 185.854]\n",
            "Epoch 38 Training Time 11.167s\n",
            "Time Step 3: MAPE  5.293%,  5.299%; MAE  2.220, 2.245; RMSE  4.042,  4.077.\n",
            "Time Step 6: MAPE  7.463%,  7.544%; MAE  3.010, 3.059; RMSE  5.738,  5.797.\n",
            "Time Step 9: MAPE  9.161%,  9.116%; MAE  3.584, 3.635; RMSE  6.880,  6.918.\n",
            "Epoch 38 Inference Time 10.360s\n",
            "Epoch 39, Step   0: [109.113, 159.967]\n",
            "Epoch 39, Step  50: [103.752, 153.220]\n",
            "Epoch 39, Step 100: [111.251, 156.233]\n",
            "Epoch 39, Step 150: [119.019, 169.991]\n",
            "Epoch 39 Training Time 11.160s\n",
            "Time Step 3: MAPE  5.293%,  5.299%; MAE  2.220, 2.245; RMSE  4.042,  4.077.\n",
            "Time Step 6: MAPE  7.463%,  7.544%; MAE  3.010, 3.059; RMSE  5.738,  5.797.\n",
            "Time Step 9: MAPE  9.161%,  9.116%; MAE  3.584, 3.635; RMSE  6.880,  6.918.\n",
            "Epoch 39 Inference Time 5.180s\n",
            "<< Saving model to ./output/models/STGCN-7320 ...\n",
            "Epoch 40, Step   0: [136.652, 195.091]\n",
            "Epoch 40, Step  50: [130.811, 181.733]\n",
            "Epoch 40, Step 100: [115.562, 170.610]\n",
            "Epoch 40, Step 150: [121.434, 170.077]\n",
            "Epoch 40 Training Time 11.164s\n",
            "Time Step 3: MAPE  5.290%,  5.238%; MAE  2.220, 2.258; RMSE  4.042,  4.103.\n",
            "Time Step 6: MAPE  7.463%,  7.461%; MAE  3.010, 3.123; RMSE  5.738,  5.898.\n",
            "Time Step 9: MAPE  9.139%,  9.002%; MAE  3.584, 3.758; RMSE  6.880,  7.112.\n",
            "Epoch 40 Inference Time 10.390s\n",
            "Epoch 41, Step   0: [109.258, 171.797]\n",
            "Epoch 41, Step  50: [118.200, 173.951]\n",
            "Epoch 41, Step 100: [117.932, 180.462]\n",
            "Epoch 41, Step 150: [106.033, 150.833]\n",
            "Epoch 41 Training Time 11.170s\n",
            "Time Step 3: MAPE  5.290%,  5.238%; MAE  2.220, 2.258; RMSE  4.042,  4.103.\n",
            "Time Step 6: MAPE  7.463%,  7.461%; MAE  3.010, 3.123; RMSE  5.738,  5.898.\n",
            "Time Step 9: MAPE  9.139%,  9.002%; MAE  3.584, 3.758; RMSE  6.880,  7.112.\n",
            "Epoch 41 Inference Time 5.179s\n",
            "Epoch 42, Step   0: [110.517, 163.251]\n",
            "Epoch 42, Step  50: [121.181, 166.625]\n",
            "Epoch 42, Step 100: [119.085, 171.619]\n",
            "Epoch 42, Step 150: [116.054, 167.885]\n",
            "Epoch 42 Training Time 11.148s\n",
            "Time Step 3: MAPE  5.290%,  5.238%; MAE  2.220, 2.258; RMSE  4.042,  4.103.\n",
            "Time Step 6: MAPE  7.463%,  7.461%; MAE  3.010, 3.123; RMSE  5.738,  5.898.\n",
            "Time Step 9: MAPE  9.139%,  9.002%; MAE  3.584, 3.758; RMSE  6.880,  7.112.\n",
            "Epoch 42 Inference Time 5.183s\n",
            "Epoch 43, Step   0: [117.252, 172.589]\n",
            "Epoch 43, Step  50: [168.818, 223.118]\n",
            "Epoch 43, Step 100: [117.486, 168.259]\n",
            "Epoch 43, Step 150: [121.851, 182.311]\n",
            "Epoch 43 Training Time 11.156s\n",
            "Time Step 3: MAPE  5.290%,  5.238%; MAE  2.220, 2.258; RMSE  4.042,  4.103.\n",
            "Time Step 6: MAPE  7.463%,  7.461%; MAE  3.010, 3.123; RMSE  5.738,  5.898.\n",
            "Time Step 9: MAPE  9.139%,  9.002%; MAE  3.584, 3.758; RMSE  6.880,  7.112.\n",
            "Epoch 43 Inference Time 5.231s\n",
            "Epoch 44, Step   0: [127.423, 181.344]\n",
            "Epoch 44, Step  50: [110.124, 168.030]\n",
            "Epoch 44, Step 100: [127.157, 183.851]\n",
            "Epoch 44, Step 150: [119.813, 181.780]\n",
            "Epoch 44 Training Time 11.155s\n",
            "Time Step 3: MAPE  5.290%,  5.238%; MAE  2.220, 2.258; RMSE  4.042,  4.103.\n",
            "Time Step 6: MAPE  7.463%,  7.461%; MAE  3.010, 3.123; RMSE  5.738,  5.898.\n",
            "Time Step 9: MAPE  9.139%,  9.002%; MAE  3.584, 3.758; RMSE  6.880,  7.112.\n",
            "Epoch 44 Inference Time 5.210s\n",
            "Epoch 45, Step   0: [103.267, 158.812]\n",
            "Epoch 45, Step  50: [108.013, 160.350]\n",
            "Epoch 45, Step 100: [128.319, 196.550]\n",
            "Epoch 45, Step 150: [114.302, 160.671]\n",
            "Epoch 45 Training Time 11.164s\n",
            "Time Step 3: MAPE  5.290%,  5.331%; MAE  2.220, 2.249; RMSE  4.042,  4.085.\n",
            "Time Step 6: MAPE  7.463%,  7.638%; MAE  3.010, 3.073; RMSE  5.738,  5.814.\n",
            "Time Step 9: MAPE  9.139%,  9.259%; MAE  3.584, 3.662; RMSE  6.868,  6.936.\n",
            "Epoch 45 Inference Time 10.335s\n",
            "Epoch 46, Step   0: [112.390, 173.659]\n",
            "Epoch 46, Step  50: [137.326, 197.211]\n",
            "Epoch 46, Step 100: [115.024, 174.758]\n",
            "Epoch 46, Step 150: [121.241, 179.007]\n",
            "Epoch 46 Training Time 11.157s\n",
            "Time Step 3: MAPE  5.290%,  5.331%; MAE  2.220, 2.249; RMSE  4.042,  4.085.\n",
            "Time Step 6: MAPE  7.463%,  7.638%; MAE  3.010, 3.073; RMSE  5.738,  5.814.\n",
            "Time Step 9: MAPE  9.139%,  9.259%; MAE  3.584, 3.662; RMSE  6.868,  6.936.\n",
            "Epoch 46 Inference Time 5.218s\n",
            "Epoch 47, Step   0: [113.151, 173.882]\n",
            "Epoch 47, Step  50: [108.813, 163.677]\n",
            "Epoch 47, Step 100: [120.176, 175.882]\n",
            "Epoch 47, Step 150: [122.659, 185.297]\n",
            "Epoch 47 Training Time 11.150s\n",
            "Time Step 3: MAPE  5.290%,  5.267%; MAE  2.220, 2.250; RMSE  4.042,  4.080.\n",
            "Time Step 6: MAPE  7.463%,  7.485%; MAE  3.010, 3.086; RMSE  5.738,  5.817.\n",
            "Time Step 9: MAPE  9.128%,  9.019%; MAE  3.584, 3.698; RMSE  6.868,  6.972.\n",
            "Epoch 47 Inference Time 10.326s\n",
            "Epoch 48, Step   0: [94.306, 139.908]\n",
            "Epoch 48, Step  50: [120.869, 176.957]\n",
            "Epoch 48, Step 100: [130.405, 185.781]\n",
            "Epoch 48, Step 150: [123.490, 177.892]\n",
            "Epoch 48 Training Time 11.151s\n",
            "Time Step 3: MAPE  5.290%,  5.267%; MAE  2.220, 2.250; RMSE  4.042,  4.080.\n",
            "Time Step 6: MAPE  7.463%,  7.485%; MAE  3.010, 3.086; RMSE  5.738,  5.817.\n",
            "Time Step 9: MAPE  9.128%,  9.019%; MAE  3.584, 3.698; RMSE  6.868,  6.972.\n",
            "Epoch 48 Inference Time 5.170s\n",
            "Epoch 49, Step   0: [119.534, 168.942]\n",
            "Epoch 49, Step  50: [122.232, 176.733]\n",
            "Epoch 49, Step 100: [123.016, 187.129]\n",
            "Epoch 49, Step 150: [130.197, 188.696]\n",
            "Epoch 49 Training Time 11.158s\n",
            "Time Step 3: MAPE  5.290%,  5.267%; MAE  2.220, 2.250; RMSE  4.042,  4.080.\n",
            "Time Step 6: MAPE  7.463%,  7.485%; MAE  3.010, 3.086; RMSE  5.738,  5.817.\n",
            "Time Step 9: MAPE  9.128%,  9.019%; MAE  3.584, 3.698; RMSE  6.868,  6.972.\n",
            "Epoch 49 Inference Time 5.224s\n",
            "<< Saving model to ./output/models/STGCN-9150 ...\n",
            "Training model finished!\n",
            "2023-04-10 12:25:24.707584: I tensorflow/compiler/xla/stream_executor/cuda/cuda_gpu_executor.cc:996] successful NUMA node read from SysFS had negative value (-1), but there must be at least one NUMA node, so returning NUMA node zero. See more at https://github.com/torvalds/linux/blob/v6.0/Documentation/ABI/testing/sysfs-bus-pci#L344-L355\n",
            "2023-04-10 12:25:24.708045: I tensorflow/compiler/xla/stream_executor/cuda/cuda_gpu_executor.cc:996] successful NUMA node read from SysFS had negative value (-1), but there must be at least one NUMA node, so returning NUMA node zero. See more at https://github.com/torvalds/linux/blob/v6.0/Documentation/ABI/testing/sysfs-bus-pci#L344-L355\n",
            "2023-04-10 12:25:24.708265: I tensorflow/compiler/xla/stream_executor/cuda/cuda_gpu_executor.cc:996] successful NUMA node read from SysFS had negative value (-1), but there must be at least one NUMA node, so returning NUMA node zero. See more at https://github.com/torvalds/linux/blob/v6.0/Documentation/ABI/testing/sysfs-bus-pci#L344-L355\n",
            "2023-04-10 12:25:24.708552: I tensorflow/compiler/xla/stream_executor/cuda/cuda_gpu_executor.cc:996] successful NUMA node read from SysFS had negative value (-1), but there must be at least one NUMA node, so returning NUMA node zero. See more at https://github.com/torvalds/linux/blob/v6.0/Documentation/ABI/testing/sysfs-bus-pci#L344-L355\n",
            "2023-04-10 12:25:24.708771: I tensorflow/compiler/xla/stream_executor/cuda/cuda_gpu_executor.cc:996] successful NUMA node read from SysFS had negative value (-1), but there must be at least one NUMA node, so returning NUMA node zero. See more at https://github.com/torvalds/linux/blob/v6.0/Documentation/ABI/testing/sysfs-bus-pci#L344-L355\n",
            "2023-04-10 12:25:24.708921: I tensorflow/core/common_runtime/gpu/gpu_device.cc:1635] Created device /job:localhost/replica:0/task:0/device:GPU:0 with 13678 MB memory:  -> device: 0, name: Tesla T4, pci bus id: 0000:00:04.0, compute capability: 7.5\n",
            ">> Loading saved model from ./output/models/STGCN-9150 ...\n",
            "Time Step 3: MAPE  5.278%; MAE  2.265; RMSE  4.093.\n",
            "Time Step 6: MAPE  7.504%; MAE  3.132; RMSE  5.861.\n",
            "Time Step 9: MAPE  9.033%; MAE  3.784; RMSE  7.075.\n",
            "Model Test Time 8.439s\n",
            "Testing model finished!\n"
          ]
        }
      ],
      "source": [
        "!python3 main.py --n_route 228 --graph PeMSD7_W_228.csv"
      ]
    },
    {
      "cell_type": "code",
      "source": [
        "!python3 main.py --n_route 228 --graph PeMSD7_W_228.csv"
      ],
      "metadata": {
        "colab": {
          "base_uri": "https://localhost:8080/"
        },
        "id": "ye7BpTFku498",
        "outputId": "4056b534-da3f-4e39-cf01-a41f51b1ceb1"
      },
      "execution_count": null,
      "outputs": [
        {
          "output_type": "stream",
          "name": "stdout",
          "text": [
            "2023-04-11 14:51:56.681890: W tensorflow/compiler/tf2tensorrt/utils/py_utils.cc:38] TF-TRT Warning: Could not find TensorRT\n",
            "WARNING:tensorflow:From /usr/local/lib/python3.9/dist-packages/tensorflow/python/compat/v2_compat.py:107: disable_resource_variables (from tensorflow.python.ops.variable_scope) is deprecated and will be removed in a future version.\n",
            "Instructions for updating:\n",
            "non-resource variables are not supported in the long term\n",
            "Training configs: Namespace(n_route=228, n_his=12, n_pred=9, batch_size=50, epoch=5, save=10, ks=3, kt=3, lr=0.001, opt='RMSProp', graph='PeMSD7_W_228.csv', inf_mode='merge')\n",
            ">> Loading dataset with Mean: 58.50, STD: 13.73\n",
            "train_data updated.\n",
            "WARNING:tensorflow:From /usr/local/lib/python3.9/dist-packages/tensorflow/python/util/dispatch.py:1176: calling dropout (from tensorflow.python.ops.nn_ops) with keep_prob is deprecated and will be removed in a future version.\n",
            "Instructions for updating:\n",
            "Please use `rate` instead of `keep_prob`. Rate should be set to `rate = 1 - keep_prob`.\n",
            "WARNING:tensorflow:From /usr/local/lib/python3.9/dist-packages/tensorflow/python/training/rmsprop.py:188: calling Ones.__init__ (from tensorflow.python.ops.init_ops) with dtype is deprecated and will be removed in a future version.\n",
            "Instructions for updating:\n",
            "Call initializer instance with the dtype argument instead of passing it to the constructor\n",
            "Epoch  0, Step   0: [3935.983, 177.232]\n",
            "Epoch  0, Step  50: [557.120, 163.788]\n",
            "Epoch  0, Step 100: [420.103, 187.339]\n",
            "Epoch  0, Step 150: [502.908, 190.558]\n",
            "Epoch  0 Training Time 17.711s\n",
            "Time Step 3: MAPE  7.183%,  6.908%; MAE  2.951, 2.914; RMSE  4.967,  4.929.\n",
            "Time Step 6: MAPE 10.484%, 10.236%; MAE  4.245, 4.227; RMSE  7.347,  7.350.\n",
            "Time Step 9: MAPE 12.922%, 12.709%; MAE  5.162, 5.173; RMSE  8.909,  8.986.\n",
            "Epoch  0 Inference Time 10.032s\n",
            "Epoch  1, Step   0: [197.870, 177.153]\n",
            "Epoch  1, Step  50: [211.726, 156.557]\n",
            "Epoch  1, Step 100: [196.745, 158.745]\n",
            "Epoch  1, Step 150: [217.740, 174.039]\n",
            "Epoch  1 Training Time 10.476s\n",
            "Time Step 3: MAPE  7.113%,  7.017%; MAE  2.951, 3.213; RMSE  4.967,  5.133.\n",
            "Time Step 6: MAPE 10.284%, 10.097%; MAE  4.245, 4.667; RMSE  7.347,  7.617.\n",
            "Time Step 9: MAPE 12.662%, 12.401%; MAE  5.162, 5.715; RMSE  8.909,  9.317.\n",
            "Epoch  1 Inference Time 9.800s\n",
            "Epoch  2, Step   0: [212.096, 179.481]\n",
            "Epoch  2, Step  50: [209.457, 171.677]\n",
            "Epoch  2, Step 100: [243.194, 165.737]\n",
            "Epoch  2, Step 150: [228.171, 172.556]\n",
            "Epoch  2 Training Time 10.566s\n",
            "Time Step 3: MAPE  6.095%,  5.956%; MAE  2.586, 2.580; RMSE  4.591,  4.601.\n",
            "Time Step 6: MAPE  8.980%,  8.775%; MAE  3.718, 3.705; RMSE  6.800,  6.815.\n",
            "Time Step 9: MAPE 11.307%, 11.017%; MAE  4.586, 4.557; RMSE  8.361,  8.384.\n",
            "Epoch  2 Inference Time 9.817s\n",
            "Epoch  3, Step   0: [155.289, 172.438]\n",
            "Epoch  3, Step  50: [198.902, 183.806]\n",
            "Epoch  3, Step 100: [166.519, 179.911]\n",
            "Epoch  3, Step 150: [189.071, 175.150]\n",
            "Epoch  3 Training Time 10.571s\n",
            "Time Step 3: MAPE  5.745%,  5.706%; MAE  2.441, 2.488; RMSE  4.323,  4.392.\n",
            "Time Step 6: MAPE  8.260%,  8.227%; MAE  3.425, 3.517; RMSE  6.281,  6.412.\n",
            "Time Step 9: MAPE 10.270%, 10.202%; MAE  4.182, 4.299; RMSE  7.667,  7.851.\n",
            "Epoch  3 Inference Time 9.884s\n",
            "Epoch  4, Step   0: [129.356, 146.551]\n",
            "Epoch  4, Step  50: [173.292, 172.264]\n",
            "Epoch  4, Step 100: [284.288, 183.942]\n",
            "Epoch  4, Step 150: [164.222, 171.110]\n",
            "Epoch  4 Training Time 10.707s\n",
            "Time Step 3: MAPE  5.745%,  5.706%; MAE  2.441, 2.488; RMSE  4.323,  4.392.\n",
            "Time Step 6: MAPE  8.260%,  8.227%; MAE  3.425, 3.517; RMSE  6.281,  6.412.\n",
            "Time Step 9: MAPE 10.270%, 10.202%; MAE  4.182, 4.299; RMSE  7.667,  7.851.\n",
            "Epoch  4 Inference Time 4.903s\n",
            "Training model finished!\n",
            ">> Loading saved model from ./output/models/STGCN-9150 ...\n",
            "Time Step 3: MAPE  5.238%; MAE  2.261; RMSE  4.088.\n",
            "Time Step 6: MAPE  7.412%; MAE  3.100; RMSE  5.778.\n",
            "Time Step 9: MAPE  8.985%; MAE  3.713; RMSE  6.898.\n",
            "Model Test Time 7.888s\n",
            "Testing model finished!\n"
          ]
        }
      ]
    },
    {
      "cell_type": "code",
      "source": [
        "from models.trainer import train_data \n",
        "print(train_data)"
      ],
      "metadata": {
        "colab": {
          "base_uri": "https://localhost:8080/"
        },
        "id": "yfZ97R-gvTcV",
        "outputId": "1217f6b5-30ae-4114-f774-e1252fac764c"
      },
      "execution_count": null,
      "outputs": [
        {
          "output_type": "stream",
          "name": "stdout",
          "text": [
            "0\n"
          ]
        }
      ]
    },
    {
      "cell_type": "code",
      "execution_count": null,
      "metadata": {
        "id": "h8q7HomXP9Mj"
      },
      "outputs": [],
      "source": [
        "os.chdir('..')"
      ]
    },
    {
      "cell_type": "code",
      "execution_count": null,
      "metadata": {
        "colab": {
          "base_uri": "https://localhost:8080/"
        },
        "id": "f66B5e0yP2G7",
        "outputId": "98d0f3ca-1583-4a4a-c1a5-26f53a0642c6"
      },
      "outputs": [
        {
          "name": "stdout",
          "output_type": "stream",
          "text": [
            "2023-04-11 02:58:22.889749: W tensorflow/compiler/tf2tensorrt/utils/py_utils.cc:38] TF-TRT Warning: Could not find TensorRT\n",
            "WARNING:tensorflow:From /usr/local/lib/python3.9/dist-packages/tensorflow/python/compat/v2_compat.py:107: disable_resource_variables (from tensorflow.python.ops.variable_scope) is deprecated and will be removed in a future version.\n",
            "Instructions for updating:\n",
            "non-resource variables are not supported in the long term\n",
            "Training configs: Namespace(n_route=1026, n_his=12, n_pred=9, batch_size=50, epoch=50, save=10, ks=3, kt=3, lr=0.001, opt='RMSProp', graph='PeMSD7_W_1026.csv', inf_mode='merge')\n",
            ">> Loading dataset with Mean: 58.39, STD: 14.01\n",
            "WARNING:tensorflow:From /usr/local/lib/python3.9/dist-packages/tensorflow/python/util/dispatch.py:1176: calling dropout (from tensorflow.python.ops.nn_ops) with keep_prob is deprecated and will be removed in a future version.\n",
            "Instructions for updating:\n",
            "Please use `rate` instead of `keep_prob`. Rate should be set to `rate = 1 - keep_prob`.\n",
            "WARNING:tensorflow:From /usr/local/lib/python3.9/dist-packages/tensorflow/python/training/rmsprop.py:188: calling Ones.__init__ (from tensorflow.python.ops.init_ops) with dtype is deprecated and will be removed in a future version.\n",
            "Instructions for updating:\n",
            "Call initializer instance with the dtype argument instead of passing it to the constructor\n",
            "Epoch  0, Step   0: [16351.532, 913.175]\n",
            "Epoch  0, Step  50: [1707.719, 867.581]\n",
            "Epoch  0, Step 100: [2177.758, 919.492]\n",
            "Epoch  0, Step 150: [1994.526, 1027.810]\n",
            "Epoch  0 Training Time 69.745s\n",
            "Time Step 3: MAPE  7.592%,  7.630%; MAE  3.275, 3.322; RMSE  5.252,  5.357.\n",
            "Time Step 6: MAPE 11.497%, 11.551%; MAE  4.794, 4.882; RMSE  7.896,  8.099.\n",
            "Time Step 9: MAPE 14.579%, 14.564%; MAE  5.975, 6.081; RMSE  9.832, 10.085.\n",
            "Epoch  0 Inference Time 58.879s\n",
            "Epoch  1, Step   0: [1221.998, 844.020]\n",
            "Epoch  1, Step  50: [1048.510, 786.439]\n",
            "Epoch  1, Step 100: [1221.409, 840.074]\n",
            "Epoch  1, Step 150: [957.110, 851.624]\n",
            "Epoch  1 Training Time 61.542s\n",
            "Time Step 3: MAPE  6.818%,  6.903%; MAE  3.113, 3.168; RMSE  5.045,  5.148.\n",
            "Time Step 6: MAPE 10.306%, 10.440%; MAE  4.784, 4.862; RMSE  7.847,  8.032.\n",
            "Time Step 9: MAPE 12.854%, 13.068%; MAE  5.975, 6.153; RMSE  9.832, 10.202.\n",
            "Epoch  1 Inference Time 58.449s\n",
            "Epoch  2, Step   0: [983.536, 859.497]\n",
            "Epoch  2, Step  50: [1541.932, 1318.194]\n",
            "Epoch  2, Step 100: [1236.656, 977.230]\n",
            "Epoch  2, Step 150: [942.448, 855.707]\n",
            "Epoch  2 Training Time 61.689s\n",
            "Time Step 3: MAPE  6.603%,  6.605%; MAE  2.728, 2.759; RMSE  4.744,  4.807.\n",
            "Time Step 6: MAPE  9.816%,  9.845%; MAE  3.895, 3.949; RMSE  6.988,  7.128.\n",
            "Time Step 9: MAPE 12.250%, 12.296%; MAE  4.780, 4.854; RMSE  8.573,  8.774.\n",
            "Epoch  2 Inference Time 58.250s\n",
            "Epoch  3, Step   0: [794.572, 926.255]\n",
            "Epoch  3, Step  50: [942.081, 956.085]\n",
            "Epoch  3, Step 100: [1008.865, 946.691]\n",
            "Epoch  3, Step 150: [1118.307, 983.010]\n",
            "Epoch  3 Training Time 61.806s\n",
            "Time Step 3: MAPE  6.371%,  6.466%; MAE  2.728, 2.957; RMSE  4.726,  4.833.\n",
            "Time Step 6: MAPE  9.625%,  9.809%; MAE  3.895, 4.514; RMSE  6.988,  7.396.\n",
            "Time Step 9: MAPE 12.250%, 12.520%; MAE  4.780, 5.822; RMSE  8.573,  9.400.\n",
            "Epoch  3 Inference Time 58.262s\n",
            "Epoch  4, Step   0: [858.189, 949.897]\n",
            "Epoch  4, Step  50: [884.631, 871.219]\n",
            "Epoch  4, Step 100: [1108.085, 980.689]\n",
            "Epoch  4, Step 150: [720.430, 840.815]\n",
            "Epoch  4 Training Time 61.719s\n",
            "Time Step 3: MAPE  6.371%,  6.466%; MAE  2.728, 2.957; RMSE  4.726,  4.833.\n",
            "Time Step 6: MAPE  9.625%,  9.809%; MAE  3.895, 4.514; RMSE  6.988,  7.396.\n",
            "Time Step 9: MAPE 12.250%, 12.520%; MAE  4.780, 5.822; RMSE  8.573,  9.400.\n",
            "Epoch  4 Inference Time 29.213s\n",
            "Epoch  5, Step   0: [770.628, 898.819]\n",
            "Epoch  5, Step  50: [843.829, 828.034]\n",
            "Epoch  5, Step 100: [850.885, 946.489]\n",
            "Epoch  5, Step 150: [833.717, 934.681]\n",
            "Epoch  5 Training Time 61.810s\n",
            "Time Step 3: MAPE  6.104%,  6.260%; MAE  2.642, 2.730; RMSE  4.649,  4.784.\n",
            "Time Step 6: MAPE  9.101%,  9.429%; MAE  3.847, 4.028; RMSE  6.988,  7.307.\n",
            "Time Step 9: MAPE 11.383%, 11.801%; MAE  4.775, 5.040; RMSE  8.573,  9.210.\n",
            "Epoch  5 Inference Time 58.494s\n",
            "Epoch  6, Step   0: [755.922, 906.698]\n",
            "Epoch  6, Step  50: [720.586, 854.190]\n",
            "Epoch  6, Step 100: [691.287, 827.060]\n",
            "Epoch  6, Step 150: [723.432, 881.233]\n",
            "Epoch  6 Training Time 61.703s\n",
            "Time Step 3: MAPE  6.104%,  6.260%; MAE  2.642, 2.730; RMSE  4.649,  4.784.\n",
            "Time Step 6: MAPE  9.101%,  9.429%; MAE  3.847, 4.028; RMSE  6.988,  7.307.\n",
            "Time Step 9: MAPE 11.383%, 11.801%; MAE  4.775, 5.040; RMSE  8.573,  9.210.\n",
            "Epoch  6 Inference Time 29.172s\n",
            "Epoch  7, Step   0: [773.524, 879.729]\n",
            "Epoch  7, Step  50: [1041.363, 1128.071]\n",
            "Epoch  7, Step 100: [741.376, 826.862]\n",
            "Epoch  7, Step 150: [644.559, 826.284]\n",
            "Epoch  7 Training Time 61.608s\n",
            "Time Step 3: MAPE  5.877%,  5.936%; MAE  2.534, 2.588; RMSE  4.434,  4.521.\n",
            "Time Step 6: MAPE  8.642%,  8.777%; MAE  3.600, 3.715; RMSE  6.493,  6.664.\n",
            "Time Step 9: MAPE 10.803%, 10.995%; MAE  4.439, 4.613; RMSE  8.010,  8.251.\n",
            "Epoch  7 Inference Time 58.351s\n",
            "Epoch  8, Step   0: [769.882, 976.335]\n",
            "Epoch  8, Step  50: [750.501, 942.968]\n",
            "Epoch  8, Step 100: [795.608, 928.677]\n",
            "Epoch  8, Step 150: [657.627, 839.355]\n",
            "Epoch  8 Training Time 61.651s\n",
            "Time Step 3: MAPE  5.877%,  6.024%; MAE  2.521, 2.549; RMSE  4.434,  4.533.\n",
            "Time Step 6: MAPE  8.642%,  9.103%; MAE  3.565, 3.615; RMSE  6.493,  6.673.\n",
            "Time Step 9: MAPE 10.803%, 11.502%; MAE  4.331, 4.413; RMSE  8.010,  8.162.\n",
            "Epoch  8 Inference Time 58.481s\n",
            "Epoch  9, Step   0: [659.119, 853.175]\n",
            "Epoch  9, Step  50: [682.476, 852.747]\n",
            "Epoch  9, Step 100: [656.012, 782.574]\n",
            "Epoch  9, Step 150: [763.087, 893.878]\n",
            "Epoch  9 Training Time 61.698s\n",
            "Time Step 3: MAPE  5.877%,  6.024%; MAE  2.521, 2.549; RMSE  4.434,  4.533.\n",
            "Time Step 6: MAPE  8.642%,  9.103%; MAE  3.565, 3.615; RMSE  6.493,  6.673.\n",
            "Time Step 9: MAPE 10.803%, 11.502%; MAE  4.331, 4.413; RMSE  8.010,  8.162.\n",
            "Epoch  9 Inference Time 29.223s\n",
            "<< Saving model to ./output/models/STGCN-1830 ...\n",
            "Epoch 10, Step   0: [677.313, 889.537]\n",
            "Epoch 10, Step  50: [672.997, 838.045]\n",
            "Epoch 10, Step 100: [771.546, 1021.998]\n",
            "Epoch 10, Step 150: [658.190, 835.163]\n",
            "Epoch 10 Training Time 61.617s\n",
            "Time Step 3: MAPE  5.725%,  5.840%; MAE  2.471, 2.539; RMSE  4.434,  4.562.\n",
            "Time Step 6: MAPE  8.546%,  8.776%; MAE  3.565, 3.740; RMSE  6.493,  6.944.\n",
            "Time Step 9: MAPE 10.798%, 11.084%; MAE  4.331, 4.742; RMSE  8.010,  8.811.\n",
            "Epoch 10 Inference Time 58.255s\n",
            "Epoch 11, Step   0: [641.937, 853.783]\n",
            "Epoch 11, Step  50: [738.531, 955.308]\n",
            "Epoch 11, Step 100: [673.832, 920.679]\n",
            "Epoch 11, Step 150: [646.066, 836.076]\n",
            "Epoch 11 Training Time 61.762s\n",
            "Time Step 3: MAPE  5.673%,  5.732%; MAE  2.404, 2.453; RMSE  4.341,  4.421.\n",
            "Time Step 6: MAPE  8.395%,  8.477%; MAE  3.380, 3.465; RMSE  6.357,  6.494.\n",
            "Time Step 9: MAPE 10.474%, 10.568%; MAE  4.122, 4.239; RMSE  7.796,  7.977.\n",
            "Epoch 11 Inference Time 58.441s\n",
            "Epoch 12, Step   0: [706.221, 973.294]\n",
            "Epoch 12, Step  50: [664.417, 885.091]\n",
            "Epoch 12, Step 100: [664.274, 877.359]\n",
            "Epoch 12, Step 150: [761.463, 941.734]\n",
            "Epoch 12 Training Time 61.659s\n",
            "Time Step 3: MAPE  5.643%,  5.727%; MAE  2.404, 2.522; RMSE  4.341,  4.507.\n",
            "Time Step 6: MAPE  8.373%,  8.517%; MAE  3.380, 3.698; RMSE  6.357,  6.806.\n",
            "Time Step 9: MAPE 10.474%, 10.676%; MAE  4.122, 4.661; RMSE  7.796,  8.561.\n",
            "Epoch 12 Inference Time 58.352s\n",
            "Epoch 13, Step   0: [639.700, 882.226]\n",
            "Epoch 13, Step  50: [640.478, 832.810]\n",
            "Epoch 13, Step 100: [733.921, 933.563]\n",
            "Epoch 13, Step 150: [705.805, 928.413]\n",
            "Epoch 13 Training Time 61.667s\n",
            "Time Step 3: MAPE  5.643%,  5.722%; MAE  2.389, 2.417; RMSE  4.318,  4.360.\n",
            "Time Step 6: MAPE  8.373%,  8.524%; MAE  3.335, 3.376; RMSE  6.282,  6.325.\n",
            "Time Step 9: MAPE 10.474%, 10.722%; MAE  4.041, 4.100; RMSE  7.644,  7.699.\n",
            "Epoch 13 Inference Time 58.421s\n",
            "Epoch 14, Step   0: [642.084, 886.750]\n",
            "Epoch 14, Step  50: [669.081, 868.184]\n",
            "Epoch 14, Step 100: [621.116, 847.946]\n",
            "Epoch 14, Step 150: [760.431, 963.737]\n",
            "Epoch 14 Training Time 61.818s\n",
            "Time Step 3: MAPE  5.581%,  5.658%; MAE  2.389, 2.458; RMSE  4.307,  4.392.\n",
            "Time Step 6: MAPE  8.189%,  8.284%; MAE  3.335, 3.474; RMSE  6.282,  6.438.\n",
            "Time Step 9: MAPE 10.213%, 10.294%; MAE  4.041, 4.247; RMSE  7.644,  7.886.\n",
            "Epoch 14 Inference Time 58.589s\n",
            "Epoch 15, Step   0: [673.571, 927.918]\n",
            "Epoch 15, Step  50: [633.299, 850.911]\n",
            "Epoch 15, Step 100: [633.609, 854.777]\n",
            "Epoch 15, Step 150: [689.850, 935.118]\n",
            "Epoch 15 Training Time 61.757s\n",
            "Time Step 3: MAPE  5.581%,  5.680%; MAE  2.376, 2.426; RMSE  4.307,  4.389.\n",
            "Time Step 6: MAPE  8.189%,  8.374%; MAE  3.331, 3.421; RMSE  6.282,  6.435.\n",
            "Time Step 9: MAPE 10.213%, 10.352%; MAE  4.041, 4.175; RMSE  7.644,  7.874.\n",
            "Epoch 15 Inference Time 58.341s\n",
            "Epoch 16, Step   0: [639.505, 887.552]\n",
            "Epoch 16, Step  50: [651.767, 882.636]\n",
            "Epoch 16, Step 100: [675.696, 876.702]\n",
            "Epoch 16, Step 150: [633.216, 896.515]\n",
            "Epoch 16 Training Time 61.657s\n",
            "Time Step 3: MAPE  5.581%,  5.680%; MAE  2.376, 2.426; RMSE  4.307,  4.389.\n",
            "Time Step 6: MAPE  8.189%,  8.374%; MAE  3.331, 3.421; RMSE  6.282,  6.435.\n",
            "Time Step 9: MAPE 10.213%, 10.352%; MAE  4.041, 4.175; RMSE  7.644,  7.874.\n",
            "Epoch 16 Inference Time 29.141s\n",
            "Epoch 17, Step   0: [630.063, 859.609]\n",
            "Epoch 17, Step  50: [638.778, 873.100]\n",
            "Epoch 17, Step 100: [649.656, 880.894]\n",
            "Epoch 17, Step 150: [828.109, 1092.318]\n",
            "Epoch 17 Training Time 61.798s\n",
            "Time Step 3: MAPE  5.533%,  5.633%; MAE  2.376, 2.462; RMSE  4.307,  4.403.\n",
            "Time Step 6: MAPE  8.165%,  8.298%; MAE  3.331, 3.532; RMSE  6.282,  6.530.\n",
            "Time Step 9: MAPE 10.194%, 10.312%; MAE  4.041, 4.370; RMSE  7.644,  8.083.\n",
            "Epoch 17 Inference Time 58.430s\n",
            "Epoch 18, Step   0: [708.909, 964.518]\n",
            "Epoch 18, Step  50: [640.183, 848.746]\n",
            "Epoch 18, Step 100: [674.941, 875.245]\n",
            "Epoch 18, Step 150: [634.823, 914.119]\n",
            "Epoch 18 Training Time 61.773s\n",
            "Time Step 3: MAPE  5.533%,  5.651%; MAE  2.376, 2.457; RMSE  4.281,  4.367.\n",
            "Time Step 6: MAPE  8.165%,  8.324%; MAE  3.331, 3.537; RMSE  6.282,  6.485.\n",
            "Time Step 9: MAPE 10.144%, 10.338%; MAE  4.041, 4.419; RMSE  7.644,  8.080.\n",
            "Epoch 18 Inference Time 58.322s\n",
            "Epoch 19, Step   0: [663.385, 941.981]\n",
            "Epoch 19, Step  50: [651.336, 880.790]\n",
            "Epoch 19, Step 100: [625.979, 885.778]\n",
            "Epoch 19, Step 150: [637.039, 816.074]\n",
            "Epoch 19 Training Time 61.763s\n",
            "Time Step 3: MAPE  5.533%,  5.651%; MAE  2.376, 2.457; RMSE  4.281,  4.367.\n",
            "Time Step 6: MAPE  8.165%,  8.324%; MAE  3.331, 3.537; RMSE  6.282,  6.485.\n",
            "Time Step 9: MAPE 10.144%, 10.338%; MAE  4.041, 4.419; RMSE  7.644,  8.080.\n",
            "Epoch 19 Inference Time 29.181s\n",
            "<< Saving model to ./output/models/STGCN-3660 ...\n",
            "Epoch 20, Step   0: [596.527, 834.168]\n",
            "Epoch 20, Step  50: [536.685, 741.766]\n",
            "Epoch 20, Step 100: [606.913, 855.277]\n",
            "Epoch 20, Step 150: [634.978, 888.298]\n",
            "Epoch 20 Training Time 61.772s\n",
            "Time Step 3: MAPE  5.505%,  5.587%; MAE  2.376, 2.430; RMSE  4.281,  4.375.\n",
            "Time Step 6: MAPE  8.052%,  8.112%; MAE  3.323, 3.393; RMSE  6.269,  6.360.\n",
            "Time Step 9: MAPE 10.027%, 10.015%; MAE  4.019, 4.089; RMSE  7.627,  7.693.\n",
            "Epoch 20 Inference Time 58.379s\n",
            "Epoch 21, Step   0: [663.908, 924.143]\n",
            "Epoch 21, Step  50: [597.487, 846.576]\n",
            "Epoch 21, Step 100: [770.445, 1063.433]\n",
            "Epoch 21, Step 150: [643.844, 880.611]\n",
            "Epoch 21 Training Time 61.679s\n",
            "Time Step 3: MAPE  5.503%,  5.566%; MAE  2.355, 2.405; RMSE  4.266,  4.341.\n",
            "Time Step 6: MAPE  8.032%,  8.092%; MAE  3.290, 3.362; RMSE  6.236,  6.342.\n",
            "Time Step 9: MAPE  9.832%,  9.921%; MAE  3.969, 4.074; RMSE  7.571,  7.729.\n",
            "Epoch 21 Inference Time 58.373s\n",
            "Epoch 22, Step   0: [743.699, 1041.598]\n",
            "Epoch 22, Step  50: [616.099, 869.754]\n",
            "Epoch 22, Step 100: [641.773, 893.696]\n",
            "Epoch 22, Step 150: [661.548, 957.808]\n",
            "Epoch 22 Training Time 61.633s\n",
            "Time Step 3: MAPE  5.489%,  5.572%; MAE  2.355, 2.422; RMSE  4.241,  4.323.\n",
            "Time Step 6: MAPE  8.014%,  8.101%; MAE  3.290, 3.413; RMSE  6.188,  6.309.\n",
            "Time Step 9: MAPE  9.832%,  9.968%; MAE  3.969, 4.181; RMSE  7.567,  7.723.\n",
            "Epoch 22 Inference Time 58.407s\n",
            "Epoch 23, Step   0: [619.342, 898.616]\n",
            "Epoch 23, Step  50: [576.404, 794.950]\n",
            "Epoch 23, Step 100: [609.269, 856.176]\n",
            "Epoch 23, Step 150: [576.393, 792.696]\n",
            "Epoch 23 Training Time 61.754s\n",
            "Time Step 3: MAPE  5.489%,  5.572%; MAE  2.355, 2.422; RMSE  4.241,  4.323.\n",
            "Time Step 6: MAPE  8.014%,  8.101%; MAE  3.290, 3.413; RMSE  6.188,  6.309.\n",
            "Time Step 9: MAPE  9.832%,  9.968%; MAE  3.969, 4.181; RMSE  7.567,  7.723.\n",
            "Epoch 23 Inference Time 29.198s\n",
            "Epoch 24, Step   0: [654.021, 913.096]\n",
            "Epoch 24, Step  50: [642.362, 930.009]\n",
            "Epoch 24, Step 100: [617.614, 834.182]\n",
            "Epoch 24, Step 150: [643.825, 916.249]\n",
            "Epoch 24 Training Time 61.786s\n",
            "Time Step 3: MAPE  5.489%,  5.572%; MAE  2.355, 2.422; RMSE  4.241,  4.323.\n",
            "Time Step 6: MAPE  8.014%,  8.101%; MAE  3.290, 3.413; RMSE  6.188,  6.309.\n",
            "Time Step 9: MAPE  9.832%,  9.968%; MAE  3.969, 4.181; RMSE  7.567,  7.723.\n",
            "Epoch 24 Inference Time 29.189s\n",
            "Epoch 25, Step   0: [634.515, 883.174]\n",
            "Epoch 25, Step  50: [663.503, 938.495]\n",
            "Epoch 25, Step 100: [691.024, 1000.574]\n",
            "Epoch 25, Step 150: [628.531, 922.589]\n",
            "Epoch 25 Training Time 61.776s\n",
            "Time Step 3: MAPE  5.489%,  5.568%; MAE  2.355, 2.395; RMSE  4.241,  4.333.\n",
            "Time Step 6: MAPE  8.014%,  8.179%; MAE  3.290, 3.360; RMSE  6.188,  6.352.\n",
            "Time Step 9: MAPE  9.832%, 10.174%; MAE  3.969, 4.077; RMSE  7.567,  7.753.\n",
            "Epoch 25 Inference Time 58.230s\n",
            "Epoch 26, Step   0: [608.367, 871.130]\n",
            "Epoch 26, Step  50: [613.511, 873.731]\n",
            "Epoch 26, Step 100: [640.117, 928.833]\n",
            "Epoch 26, Step 150: [652.421, 934.339]\n",
            "Epoch 26 Training Time 61.644s\n",
            "Time Step 3: MAPE  5.439%,  5.508%; MAE  2.349, 2.404; RMSE  4.241,  4.323.\n",
            "Time Step 6: MAPE  7.964%,  8.028%; MAE  3.290, 3.400; RMSE  6.188,  6.352.\n",
            "Time Step 9: MAPE  9.832%,  9.937%; MAE  3.969, 4.159; RMSE  7.567,  7.775.\n",
            "Epoch 26 Inference Time 58.299s\n",
            "Epoch 27, Step   0: [609.904, 852.001]\n",
            "Epoch 27, Step  50: [635.704, 896.971]\n",
            "Epoch 27, Step 100: [625.574, 905.647]\n",
            "Epoch 27, Step 150: [676.633, 970.955]\n",
            "Epoch 27 Training Time 61.712s\n",
            "Time Step 3: MAPE  5.439%,  5.499%; MAE  2.349, 2.399; RMSE  4.241,  4.316.\n",
            "Time Step 6: MAPE  7.964%,  8.039%; MAE  3.290, 3.401; RMSE  6.188,  6.335.\n",
            "Time Step 9: MAPE  9.832%,  9.978%; MAE  3.969, 4.178; RMSE  7.567,  7.760.\n",
            "Epoch 27 Inference Time 58.393s\n",
            "Epoch 28, Step   0: [598.973, 873.646]\n",
            "Epoch 28, Step  50: [651.548, 948.238]\n",
            "Epoch 28, Step 100: [598.233, 846.636]\n",
            "Epoch 28, Step 150: [627.546, 916.447]\n",
            "Epoch 28 Training Time 61.786s\n",
            "Time Step 3: MAPE  5.439%,  5.539%; MAE  2.349, 2.390; RMSE  4.241,  4.341.\n",
            "Time Step 6: MAPE  7.964%,  8.110%; MAE  3.287, 3.343; RMSE  6.188,  6.330.\n",
            "Time Step 9: MAPE  9.832%, 10.061%; MAE  3.969, 4.066; RMSE  7.567,  7.730.\n",
            "Epoch 28 Inference Time 58.347s\n",
            "Epoch 29, Step   0: [632.343, 918.981]\n",
            "Epoch 29, Step  50: [562.701, 795.888]\n",
            "Epoch 29, Step 100: [602.020, 893.708]\n",
            "Epoch 29, Step 150: [599.725, 887.176]\n",
            "Epoch 29 Training Time 61.745s\n",
            "Time Step 3: MAPE  5.439%,  5.519%; MAE  2.347, 2.403; RMSE  4.241,  4.334.\n",
            "Time Step 6: MAPE  7.964%,  8.094%; MAE  3.287, 3.416; RMSE  6.188,  6.416.\n",
            "Time Step 9: MAPE  9.832%, 10.040%; MAE  3.969, 4.197; RMSE  7.567,  7.903.\n",
            "Epoch 29 Inference Time 58.216s\n",
            "<< Saving model to ./output/models/STGCN-5490 ...\n",
            "Epoch 30, Step   0: [645.708, 906.103]\n",
            "Epoch 30, Step  50: [609.223, 875.990]\n",
            "Epoch 30, Step 100: [637.443, 926.853]\n",
            "Epoch 30, Step 150: [603.742, 862.683]\n",
            "Epoch 30 Training Time 61.659s\n",
            "Time Step 3: MAPE  5.439%,  5.519%; MAE  2.347, 2.403; RMSE  4.241,  4.334.\n",
            "Time Step 6: MAPE  7.964%,  8.094%; MAE  3.287, 3.416; RMSE  6.188,  6.416.\n",
            "Time Step 9: MAPE  9.832%, 10.040%; MAE  3.969, 4.197; RMSE  7.567,  7.903.\n",
            "Epoch 30 Inference Time 29.129s\n",
            "Epoch 31, Step   0: [589.383, 847.918]\n",
            "Epoch 31, Step  50: [621.518, 925.883]\n",
            "Epoch 31, Step 100: [604.926, 889.319]\n",
            "Traceback (most recent call last):\n",
            "  File \"/content/drive/MyDrive/sample_data/main.py\", line 70, in <module>\n",
            "    model_train(PeMS, blocks, args)\n",
            "  File \"/content/drive/MyDrive/sample_data/models/trainer.py\", line 81, in model_train\n",
            "    summary, _ = sess.run([merged, train_op], feed_dict={x: x_batch[:, 0:n_his + 1, :, :], keep_prob: 1.0})\n",
            "  File \"/usr/local/lib/python3.9/dist-packages/tensorflow/python/client/session.py\", line 968, in run\n",
            "    result = self._run(None, fetches, feed_dict, options_ptr,\n",
            "  File \"/usr/local/lib/python3.9/dist-packages/tensorflow/python/client/session.py\", line 1191, in _run\n",
            "    results = self._do_run(handle, final_targets, final_fetches,\n",
            "  File \"/usr/local/lib/python3.9/dist-packages/tensorflow/python/client/session.py\", line 1371, in _do_run\n",
            "    return self._do_call(_run_fn, feeds, fetches, targets, options,\n",
            "  File \"/usr/local/lib/python3.9/dist-packages/tensorflow/python/client/session.py\", line 1378, in _do_call\n",
            "    return fn(*args)\n",
            "  File \"/usr/local/lib/python3.9/dist-packages/tensorflow/python/client/session.py\", line 1361, in _run_fn\n",
            "    return self._call_tf_sessionrun(options, feed_dict, fetch_list,\n",
            "  File \"/usr/local/lib/python3.9/dist-packages/tensorflow/python/client/session.py\", line 1454, in _call_tf_sessionrun\n",
            "    return tf_session.TF_SessionRun_wrapper(self._session, options, feed_dict,\n",
            "KeyboardInterrupt\n",
            "^C\n"
          ]
        }
      ],
      "source": [
        "!python3 main.py --n_route 1026 --graph PeMSD7_W_1026.csv"
      ]
    },
    {
      "cell_type": "code",
      "execution_count": null,
      "metadata": {
        "id": "BLTHY25Ge5Y0"
      },
      "outputs": [],
      "source": [
        "!python3 main.py --n_route 228 --graph PeMSD7_W_228.csv"
      ]
    },
    {
      "cell_type": "code",
      "execution_count": null,
      "metadata": {
        "colab": {
          "base_uri": "https://localhost:8080/"
        },
        "id": "TptMzsiJsMwv",
        "outputId": "78a734cf-b004-445e-da0b-11448a92d5c9"
      },
      "outputs": [
        {
          "output_type": "stream",
          "name": "stdout",
          "text": [
            "2023-04-12 03:26:10.932547: I tensorflow/core/platform/cpu_feature_guard.cc:182] This TensorFlow binary is optimized to use available CPU instructions in performance-critical operations.\n",
            "To enable the following instructions: AVX2 FMA, in other operations, rebuild TensorFlow with the appropriate compiler flags.\n",
            "2023-04-12 03:26:12.203162: W tensorflow/compiler/tf2tensorrt/utils/py_utils.cc:38] TF-TRT Warning: Could not find TensorRT\n",
            "WARNING:tensorflow:From /usr/local/lib/python3.9/dist-packages/tensorflow/python/compat/v2_compat.py:107: disable_resource_variables (from tensorflow.python.ops.variable_scope) is deprecated and will be removed in a future version.\n",
            "Instructions for updating:\n",
            "non-resource variables are not supported in the long term\n",
            "2023-04-12 03:26:13.690485: I tensorflow/compiler/xla/stream_executor/cuda/cuda_gpu_executor.cc:996] successful NUMA node read from SysFS had negative value (-1), but there must be at least one NUMA node, so returning NUMA node zero. See more at https://github.com/torvalds/linux/blob/v6.0/Documentation/ABI/testing/sysfs-bus-pci#L344-L355\n",
            "2023-04-12 03:26:14.304652: I tensorflow/compiler/xla/stream_executor/cuda/cuda_gpu_executor.cc:996] successful NUMA node read from SysFS had negative value (-1), but there must be at least one NUMA node, so returning NUMA node zero. See more at https://github.com/torvalds/linux/blob/v6.0/Documentation/ABI/testing/sysfs-bus-pci#L344-L355\n",
            "2023-04-12 03:26:14.304932: I tensorflow/compiler/xla/stream_executor/cuda/cuda_gpu_executor.cc:996] successful NUMA node read from SysFS had negative value (-1), but there must be at least one NUMA node, so returning NUMA node zero. See more at https://github.com/torvalds/linux/blob/v6.0/Documentation/ABI/testing/sysfs-bus-pci#L344-L355\n",
            "2023-04-12 03:26:16.990406: I tensorflow/compiler/xla/stream_executor/cuda/cuda_gpu_executor.cc:996] successful NUMA node read from SysFS had negative value (-1), but there must be at least one NUMA node, so returning NUMA node zero. See more at https://github.com/torvalds/linux/blob/v6.0/Documentation/ABI/testing/sysfs-bus-pci#L344-L355\n",
            "2023-04-12 03:26:16.990707: I tensorflow/compiler/xla/stream_executor/cuda/cuda_gpu_executor.cc:996] successful NUMA node read from SysFS had negative value (-1), but there must be at least one NUMA node, so returning NUMA node zero. See more at https://github.com/torvalds/linux/blob/v6.0/Documentation/ABI/testing/sysfs-bus-pci#L344-L355\n",
            "2023-04-12 03:26:16.990934: I tensorflow/compiler/xla/stream_executor/cuda/cuda_gpu_executor.cc:996] successful NUMA node read from SysFS had negative value (-1), but there must be at least one NUMA node, so returning NUMA node zero. See more at https://github.com/torvalds/linux/blob/v6.0/Documentation/ABI/testing/sysfs-bus-pci#L344-L355\n",
            "2023-04-12 03:26:16.991100: I tensorflow/core/common_runtime/gpu/gpu_device.cc:1635] Created device /job:localhost/replica:0/task:0/device:GPU:0 with 13678 MB memory:  -> device: 0, name: Tesla T4, pci bus id: 0000:00:04.0, compute capability: 7.5\n",
            "Training configs: Namespace(n_route=228, n_his=12, n_pred=9, batch_size=50, epoch=5, save=10, ks=3, kt=3, lr=0.001, opt='RMSProp', graph='PeMSD7_W_228.csv', inf_mode='merge')\n",
            ">> Loading dataset with Mean: 58.50, STD: 13.73\n",
            "2023-04-12 03:26:20.672669: I tensorflow/compiler/xla/stream_executor/cuda/cuda_gpu_executor.cc:996] successful NUMA node read from SysFS had negative value (-1), but there must be at least one NUMA node, so returning NUMA node zero. See more at https://github.com/torvalds/linux/blob/v6.0/Documentation/ABI/testing/sysfs-bus-pci#L344-L355\n",
            "2023-04-12 03:26:20.673000: I tensorflow/compiler/xla/stream_executor/cuda/cuda_gpu_executor.cc:996] successful NUMA node read from SysFS had negative value (-1), but there must be at least one NUMA node, so returning NUMA node zero. See more at https://github.com/torvalds/linux/blob/v6.0/Documentation/ABI/testing/sysfs-bus-pci#L344-L355\n",
            "2023-04-12 03:26:20.673193: I tensorflow/compiler/xla/stream_executor/cuda/cuda_gpu_executor.cc:996] successful NUMA node read from SysFS had negative value (-1), but there must be at least one NUMA node, so returning NUMA node zero. See more at https://github.com/torvalds/linux/blob/v6.0/Documentation/ABI/testing/sysfs-bus-pci#L344-L355\n",
            "2023-04-12 03:26:20.673645: I tensorflow/compiler/xla/stream_executor/cuda/cuda_gpu_executor.cc:996] successful NUMA node read from SysFS had negative value (-1), but there must be at least one NUMA node, so returning NUMA node zero. See more at https://github.com/torvalds/linux/blob/v6.0/Documentation/ABI/testing/sysfs-bus-pci#L344-L355\n",
            "2023-04-12 03:26:20.673874: I tensorflow/compiler/xla/stream_executor/cuda/cuda_gpu_executor.cc:996] successful NUMA node read from SysFS had negative value (-1), but there must be at least one NUMA node, so returning NUMA node zero. See more at https://github.com/torvalds/linux/blob/v6.0/Documentation/ABI/testing/sysfs-bus-pci#L344-L355\n",
            "2023-04-12 03:26:20.674051: I tensorflow/compiler/xla/stream_executor/cuda/cuda_gpu_executor.cc:996] successful NUMA node read from SysFS had negative value (-1), but there must be at least one NUMA node, so returning NUMA node zero. See more at https://github.com/torvalds/linux/blob/v6.0/Documentation/ABI/testing/sysfs-bus-pci#L344-L355\n",
            "2023-04-12 03:26:20.674282: I tensorflow/compiler/xla/stream_executor/cuda/cuda_gpu_executor.cc:996] successful NUMA node read from SysFS had negative value (-1), but there must be at least one NUMA node, so returning NUMA node zero. See more at https://github.com/torvalds/linux/blob/v6.0/Documentation/ABI/testing/sysfs-bus-pci#L344-L355\n",
            "2023-04-12 03:26:20.674468: I tensorflow/compiler/xla/stream_executor/cuda/cuda_gpu_executor.cc:996] successful NUMA node read from SysFS had negative value (-1), but there must be at least one NUMA node, so returning NUMA node zero. See more at https://github.com/torvalds/linux/blob/v6.0/Documentation/ABI/testing/sysfs-bus-pci#L344-L355\n",
            "2023-04-12 03:26:20.674612: I tensorflow/core/common_runtime/gpu/gpu_device.cc:1635] Created device /job:localhost/replica:0/task:0/device:GPU:0 with 13678 MB memory:  -> device: 0, name: Tesla T4, pci bus id: 0000:00:04.0, compute capability: 7.5\n",
            "2023-04-12 03:26:20.692292: I tensorflow/compiler/mlir/mlir_graph_optimization_pass.cc:353] MLIR V1 optimization pass is not enabled\n",
            ">> Loading saved model from ./output/models/STGCN-9150 ...\n",
            "2023-04-12 03:26:25.222051: I tensorflow/compiler/xla/stream_executor/cuda/cuda_dnn.cc:424] Loaded cuDNN version 8700\n",
            "(1340, 21, 228, 1)\n",
            "Time Step 3: MAPE  5.238%; MAE  2.261; RMSE  4.088.\n",
            "Time Step 6: MAPE  7.412%; MAE  3.100; RMSE  5.778.\n",
            "Time Step 9: MAPE  8.985%; MAE  3.713; RMSE  6.898.\n",
            "Model Test Time 16.118s\n",
            "Testing model finished!\n"
          ]
        }
      ],
      "source": [
        "!python3 main.py --n_route 228 --graph PeMSD7_W_228.csv"
      ]
    },
    {
      "cell_type": "code",
      "execution_count": null,
      "metadata": {
        "colab": {
          "base_uri": "https://localhost:8080/",
          "height": 36
        },
        "id": "HHSf4HrzEeO4",
        "outputId": "6d9a68fc-b76e-417e-e8e5-34e4181422be"
      },
      "outputs": [
        {
          "data": {
            "application/vnd.google.colaboratory.intrinsic+json": {
              "type": "string"
            },
            "text/plain": [
              "'/content/drive/MyDrive/sample_data'"
            ]
          },
          "execution_count": 12,
          "metadata": {},
          "output_type": "execute_result"
        }
      ],
      "source": [
        "os.getcwd()"
      ]
    },
    {
      "cell_type": "code",
      "execution_count": null,
      "metadata": {
        "id": "q9fCQJ5C5zRX"
      },
      "outputs": [],
      "source": [
        "os.chdir('output')"
      ]
    },
    {
      "cell_type": "code",
      "execution_count": null,
      "metadata": {
        "colab": {
          "base_uri": "https://localhost:8080/"
        },
        "id": "i-a4R9Im52-1",
        "outputId": "41500500-5d67-4307-cb95-b20bee1d43af"
      },
      "outputs": [
        {
          "data": {
            "text/plain": [
              "['tensorboard', 'models']"
            ]
          },
          "execution_count": 22,
          "metadata": {},
          "output_type": "execute_result"
        }
      ],
      "source": [
        "os.listdir()"
      ]
    },
    {
      "cell_type": "code",
      "execution_count": null,
      "metadata": {
        "id": "UJLmX0tU545S"
      },
      "outputs": [],
      "source": [
        "os.chdir('models')"
      ]
    },
    {
      "cell_type": "code",
      "execution_count": null,
      "metadata": {
        "colab": {
          "base_uri": "https://localhost:8080/"
        },
        "id": "ShsRnVei57L4",
        "outputId": "5ad288d1-53cc-4912-c7b7-628133a367b7"
      },
      "outputs": [
        {
          "data": {
            "text/plain": [
              "['Copy of Introduction_to_python_and_concepts_for_NLP.ipynb',\n",
              " 'Copy of Assignment - Integers, Floats & Booleans.ipynb',\n",
              " 'Numpy_Introduction.ipynb',\n",
              " 'Numpy',\n",
              " 'FIle handling']"
            ]
          },
          "execution_count": 14,
          "metadata": {},
          "output_type": "execute_result"
        }
      ],
      "source": [
        "os.listdir()"
      ]
    },
    {
      "cell_type": "code",
      "execution_count": null,
      "metadata": {
        "colab": {
          "base_uri": "https://localhost:8080/",
          "height": 130
        },
        "id": "S-FdnRFj59FM",
        "outputId": "fa252bdf-eaea-4342-ba31-be76b2bb4358"
      },
      "outputs": [
        {
          "ename": "SyntaxError",
          "evalue": "ignored",
          "output_type": "error",
          "traceback": [
            "\u001b[0;36m  File \u001b[0;32m\"<ipython-input-12-d7797220542a>\"\u001b[0;36m, line \u001b[0;32m1\u001b[0m\n\u001b[0;31m    STGCN-1830.index\u001b[0m\n\u001b[0m               ^\u001b[0m\n\u001b[0;31mSyntaxError\u001b[0m\u001b[0;31m:\u001b[0m invalid syntax\n"
          ]
        }
      ],
      "source": [
        "STGCN-1830.index"
      ]
    },
    {
      "cell_type": "code",
      "execution_count": null,
      "metadata": {
        "colab": {
          "base_uri": "https://localhost:8080/",
          "height": 380
        },
        "id": "bstvXkuj6FSx",
        "outputId": "320b248c-da65-41c2-e684-5ec7e4f58520"
      },
      "outputs": [
        {
          "ename": "UnicodeDecodeError",
          "evalue": "ignored",
          "output_type": "error",
          "traceback": [
            "\u001b[0;31m---------------------------------------------------------------------------\u001b[0m",
            "\u001b[0;31mUnicodeDecodeError\u001b[0m                        Traceback (most recent call last)",
            "\u001b[0;32m<ipython-input-16-fa45d59b36e3>\u001b[0m in \u001b[0;36m<cell line: 2>\u001b[0;34m()\u001b[0m\n\u001b[1;32m      1\u001b[0m \u001b[0mfile\u001b[0m \u001b[0;34m=\u001b[0m \u001b[0mopen\u001b[0m\u001b[0;34m(\u001b[0m\u001b[0;34m'STGCN-1830.meta'\u001b[0m\u001b[0;34m,\u001b[0m \u001b[0mencoding\u001b[0m\u001b[0;34m=\u001b[0m\u001b[0;34m'utf-16'\u001b[0m\u001b[0;34m)\u001b[0m\u001b[0;34m\u001b[0m\u001b[0;34m\u001b[0m\u001b[0m\n\u001b[0;32m----> 2\u001b[0;31m \u001b[0mr\u001b[0m \u001b[0;34m=\u001b[0m \u001b[0mfile\u001b[0m\u001b[0;34m.\u001b[0m\u001b[0mread\u001b[0m\u001b[0;34m(\u001b[0m\u001b[0;34m)\u001b[0m\u001b[0;34m\u001b[0m\u001b[0;34m\u001b[0m\u001b[0m\n\u001b[0m\u001b[1;32m      3\u001b[0m \u001b[0mprint\u001b[0m\u001b[0;34m(\u001b[0m\u001b[0mr\u001b[0m\u001b[0;34m)\u001b[0m\u001b[0;34m\u001b[0m\u001b[0;34m\u001b[0m\u001b[0m\n",
            "\u001b[0;32m/usr/lib/python3.9/codecs.py\u001b[0m in \u001b[0;36mdecode\u001b[0;34m(self, input, final)\u001b[0m\n\u001b[1;32m    320\u001b[0m         \u001b[0;31m# decode input (taking the buffer into account)\u001b[0m\u001b[0;34m\u001b[0m\u001b[0;34m\u001b[0m\u001b[0m\n\u001b[1;32m    321\u001b[0m         \u001b[0mdata\u001b[0m \u001b[0;34m=\u001b[0m \u001b[0mself\u001b[0m\u001b[0;34m.\u001b[0m\u001b[0mbuffer\u001b[0m \u001b[0;34m+\u001b[0m \u001b[0minput\u001b[0m\u001b[0;34m\u001b[0m\u001b[0;34m\u001b[0m\u001b[0m\n\u001b[0;32m--> 322\u001b[0;31m         \u001b[0;34m(\u001b[0m\u001b[0mresult\u001b[0m\u001b[0;34m,\u001b[0m \u001b[0mconsumed\u001b[0m\u001b[0;34m)\u001b[0m \u001b[0;34m=\u001b[0m \u001b[0mself\u001b[0m\u001b[0;34m.\u001b[0m\u001b[0m_buffer_decode\u001b[0m\u001b[0;34m(\u001b[0m\u001b[0mdata\u001b[0m\u001b[0;34m,\u001b[0m \u001b[0mself\u001b[0m\u001b[0;34m.\u001b[0m\u001b[0merrors\u001b[0m\u001b[0;34m,\u001b[0m \u001b[0mfinal\u001b[0m\u001b[0;34m)\u001b[0m\u001b[0;34m\u001b[0m\u001b[0;34m\u001b[0m\u001b[0m\n\u001b[0m\u001b[1;32m    323\u001b[0m         \u001b[0;31m# keep undecoded input until the next call\u001b[0m\u001b[0;34m\u001b[0m\u001b[0;34m\u001b[0m\u001b[0m\n\u001b[1;32m    324\u001b[0m         \u001b[0mself\u001b[0m\u001b[0;34m.\u001b[0m\u001b[0mbuffer\u001b[0m \u001b[0;34m=\u001b[0m \u001b[0mdata\u001b[0m\u001b[0;34m[\u001b[0m\u001b[0mconsumed\u001b[0m\u001b[0;34m:\u001b[0m\u001b[0;34m]\u001b[0m\u001b[0;34m\u001b[0m\u001b[0;34m\u001b[0m\u001b[0m\n",
            "\u001b[0;32m/usr/lib/python3.9/encodings/utf_16.py\u001b[0m in \u001b[0;36m_buffer_decode\u001b[0;34m(self, input, errors, final)\u001b[0m\n\u001b[1;32m     59\u001b[0m         \u001b[0;32mif\u001b[0m \u001b[0mself\u001b[0m\u001b[0;34m.\u001b[0m\u001b[0mdecoder\u001b[0m \u001b[0;32mis\u001b[0m \u001b[0;32mNone\u001b[0m\u001b[0;34m:\u001b[0m\u001b[0;34m\u001b[0m\u001b[0;34m\u001b[0m\u001b[0m\n\u001b[1;32m     60\u001b[0m             \u001b[0;34m(\u001b[0m\u001b[0moutput\u001b[0m\u001b[0;34m,\u001b[0m \u001b[0mconsumed\u001b[0m\u001b[0;34m,\u001b[0m \u001b[0mbyteorder\u001b[0m\u001b[0;34m)\u001b[0m \u001b[0;34m=\u001b[0m\u001b[0;31m \u001b[0m\u001b[0;31m\\\u001b[0m\u001b[0;34m\u001b[0m\u001b[0;34m\u001b[0m\u001b[0m\n\u001b[0;32m---> 61\u001b[0;31m                 \u001b[0mcodecs\u001b[0m\u001b[0;34m.\u001b[0m\u001b[0mutf_16_ex_decode\u001b[0m\u001b[0;34m(\u001b[0m\u001b[0minput\u001b[0m\u001b[0;34m,\u001b[0m \u001b[0merrors\u001b[0m\u001b[0;34m,\u001b[0m \u001b[0;36m0\u001b[0m\u001b[0;34m,\u001b[0m \u001b[0mfinal\u001b[0m\u001b[0;34m)\u001b[0m\u001b[0;34m\u001b[0m\u001b[0;34m\u001b[0m\u001b[0m\n\u001b[0m\u001b[1;32m     62\u001b[0m             \u001b[0;32mif\u001b[0m \u001b[0mbyteorder\u001b[0m \u001b[0;34m==\u001b[0m \u001b[0;34m-\u001b[0m\u001b[0;36m1\u001b[0m\u001b[0;34m:\u001b[0m\u001b[0;34m\u001b[0m\u001b[0;34m\u001b[0m\u001b[0m\n\u001b[1;32m     63\u001b[0m                 \u001b[0mself\u001b[0m\u001b[0;34m.\u001b[0m\u001b[0mdecoder\u001b[0m \u001b[0;34m=\u001b[0m \u001b[0mcodecs\u001b[0m\u001b[0;34m.\u001b[0m\u001b[0mutf_16_le_decode\u001b[0m\u001b[0;34m\u001b[0m\u001b[0;34m\u001b[0m\u001b[0m\n",
            "\u001b[0;31mUnicodeDecodeError\u001b[0m: 'utf-16-le' codec can't decode bytes in position 6334-6335: illegal encoding"
          ]
        }
      ],
      "source": [
        "file = open('STGCN-1830.meta', encoding='utf-16')\n",
        "r = file.read()\n",
        "print(r)"
      ]
    },
    {
      "cell_type": "code",
      "execution_count": null,
      "metadata": {
        "colab": {
          "base_uri": "https://localhost:8080/",
          "height": 432
        },
        "id": "aJ3LfsOoJI9H",
        "outputId": "f536eca4-4f40-43e0-e4f5-6083e15e0b4f"
      },
      "outputs": [
        {
          "ename": "OSError",
          "evalue": "ignored",
          "output_type": "error",
          "traceback": [
            "\u001b[0;31m---------------------------------------------------------------------------\u001b[0m",
            "\u001b[0;31mOSError\u001b[0m                                   Traceback (most recent call last)",
            "\u001b[0;32m<ipython-input-31-1885823d9713>\u001b[0m in \u001b[0;36m<cell line: 4>\u001b[0;34m()\u001b[0m\n\u001b[1;32m      2\u001b[0m \u001b[0;34m\u001b[0m\u001b[0m\n\u001b[1;32m      3\u001b[0m \u001b[0;31m# Load the TensorFlow model\u001b[0m\u001b[0;34m\u001b[0m\u001b[0;34m\u001b[0m\u001b[0m\n\u001b[0;32m----> 4\u001b[0;31m \u001b[0mmodel\u001b[0m \u001b[0;34m=\u001b[0m \u001b[0mtf\u001b[0m\u001b[0;34m.\u001b[0m\u001b[0mkeras\u001b[0m\u001b[0;34m.\u001b[0m\u001b[0mmodels\u001b[0m\u001b[0;34m.\u001b[0m\u001b[0mload_model\u001b[0m\u001b[0;34m(\u001b[0m\u001b[0;34m'models'\u001b[0m\u001b[0;34m)\u001b[0m\u001b[0;34m\u001b[0m\u001b[0;34m\u001b[0m\u001b[0m\n\u001b[0m\u001b[1;32m      5\u001b[0m \u001b[0;34m\u001b[0m\u001b[0m\n\u001b[1;32m      6\u001b[0m \u001b[0;31m# Get the path to the .data-0000-of-0001 file\u001b[0m\u001b[0;34m\u001b[0m\u001b[0;34m\u001b[0m\u001b[0m\n",
            "\u001b[0;32m/usr/local/lib/python3.9/dist-packages/keras/saving/saving_api.py\u001b[0m in \u001b[0;36mload_model\u001b[0;34m(filepath, custom_objects, compile, safe_mode, **kwargs)\u001b[0m\n\u001b[1;32m    210\u001b[0m \u001b[0;34m\u001b[0m\u001b[0m\n\u001b[1;32m    211\u001b[0m     \u001b[0;31m# Legacy case.\u001b[0m\u001b[0;34m\u001b[0m\u001b[0;34m\u001b[0m\u001b[0m\n\u001b[0;32m--> 212\u001b[0;31m     return legacy_sm_saving_lib.load_model(\n\u001b[0m\u001b[1;32m    213\u001b[0m         \u001b[0mfilepath\u001b[0m\u001b[0;34m,\u001b[0m \u001b[0mcustom_objects\u001b[0m\u001b[0;34m=\u001b[0m\u001b[0mcustom_objects\u001b[0m\u001b[0;34m,\u001b[0m \u001b[0mcompile\u001b[0m\u001b[0;34m=\u001b[0m\u001b[0mcompile\u001b[0m\u001b[0;34m,\u001b[0m \u001b[0;34m**\u001b[0m\u001b[0mkwargs\u001b[0m\u001b[0;34m\u001b[0m\u001b[0;34m\u001b[0m\u001b[0m\n\u001b[1;32m    214\u001b[0m     )\n",
            "\u001b[0;32m/usr/local/lib/python3.9/dist-packages/keras/utils/traceback_utils.py\u001b[0m in \u001b[0;36merror_handler\u001b[0;34m(*args, **kwargs)\u001b[0m\n\u001b[1;32m     68\u001b[0m             \u001b[0;31m# To get the full stack trace, call:\u001b[0m\u001b[0;34m\u001b[0m\u001b[0;34m\u001b[0m\u001b[0m\n\u001b[1;32m     69\u001b[0m             \u001b[0;31m# `tf.debugging.disable_traceback_filtering()`\u001b[0m\u001b[0;34m\u001b[0m\u001b[0;34m\u001b[0m\u001b[0m\n\u001b[0;32m---> 70\u001b[0;31m             \u001b[0;32mraise\u001b[0m \u001b[0me\u001b[0m\u001b[0;34m.\u001b[0m\u001b[0mwith_traceback\u001b[0m\u001b[0;34m(\u001b[0m\u001b[0mfiltered_tb\u001b[0m\u001b[0;34m)\u001b[0m \u001b[0;32mfrom\u001b[0m \u001b[0;32mNone\u001b[0m\u001b[0;34m\u001b[0m\u001b[0;34m\u001b[0m\u001b[0m\n\u001b[0m\u001b[1;32m     71\u001b[0m         \u001b[0;32mfinally\u001b[0m\u001b[0;34m:\u001b[0m\u001b[0;34m\u001b[0m\u001b[0;34m\u001b[0m\u001b[0m\n\u001b[1;32m     72\u001b[0m             \u001b[0;32mdel\u001b[0m \u001b[0mfiltered_tb\u001b[0m\u001b[0;34m\u001b[0m\u001b[0;34m\u001b[0m\u001b[0m\n",
            "\u001b[0;32m/usr/local/lib/python3.9/dist-packages/tensorflow/python/saved_model/loader_impl.py\u001b[0m in \u001b[0;36mparse_saved_model\u001b[0;34m(export_dir)\u001b[0m\n\u001b[1;32m    114\u001b[0m       \u001b[0;32mraise\u001b[0m \u001b[0mIOError\u001b[0m\u001b[0;34m(\u001b[0m\u001b[0;34mf\"Cannot parse file {path_to_pbtxt}: {str(e)}.\"\u001b[0m\u001b[0;34m)\u001b[0m\u001b[0;34m\u001b[0m\u001b[0;34m\u001b[0m\u001b[0m\n\u001b[1;32m    115\u001b[0m   \u001b[0;32melse\u001b[0m\u001b[0;34m:\u001b[0m\u001b[0;34m\u001b[0m\u001b[0;34m\u001b[0m\u001b[0m\n\u001b[0;32m--> 116\u001b[0;31m     raise IOError(\n\u001b[0m\u001b[1;32m    117\u001b[0m         \u001b[0;34mf\"SavedModel file does not exist at: {export_dir}{os.path.sep}\"\u001b[0m\u001b[0;34m\u001b[0m\u001b[0;34m\u001b[0m\u001b[0m\n\u001b[1;32m    118\u001b[0m         \u001b[0;34mf\"{{{constants.SAVED_MODEL_FILENAME_PBTXT}|\"\u001b[0m\u001b[0;34m\u001b[0m\u001b[0;34m\u001b[0m\u001b[0m\n",
            "\u001b[0;31mOSError\u001b[0m: SavedModel file does not exist at: models/{saved_model.pbtxt|saved_model.pb}"
          ]
        }
      ],
      "source": [
        "import tensorflow as tf\n",
        "\n",
        "# Load the TensorFlow model\n",
        "model = tf.keras.models.load_model('models')\n",
        "\n",
        "# Get the path to the .data-0000-of-0001 file\n",
        "data_path = model.weights[0].numpy().tolist()[0].decode('utf-8')\n",
        "\n",
        "# Load the data from the .data-0000-of-0001 file\n",
        "with open(data_path, 'rb') as f:\n",
        "    data = f.read()\n",
        "\n",
        "# Process the data as needed\n"
      ]
    },
    {
      "cell_type": "code",
      "source": [
        "os.chdir('collected')"
      ],
      "metadata": {
        "id": "FLJvTMxMmj_t"
      },
      "execution_count": null,
      "outputs": []
    },
    {
      "cell_type": "code",
      "execution_count": null,
      "metadata": {
        "id": "gEuqMxEDONGv"
      },
      "outputs": [],
      "source": [
        "file = open('TestingData.txt', 'r')\n",
        "data = file.read()\n",
        "data"
      ]
    },
    {
      "cell_type": "code",
      "source": [
        "data = eval(data)\n",
        "data"
      ],
      "metadata": {
        "id": "0nFGYUseQmbD"
      },
      "execution_count": null,
      "outputs": []
    },
    {
      "cell_type": "code",
      "source": [
        "import numpy as np\n",
        "data = np.array(data)\n",
        "data"
      ],
      "metadata": {
        "id": "1nSDHJcrQrwB"
      },
      "execution_count": null,
      "outputs": []
    },
    {
      "cell_type": "code",
      "source": [
        "import pandas as pd\n",
        "df = pd.read_csv('mnist_train_small.csv')\n",
        "df"
      ],
      "metadata": {
        "id": "awdYoU1EQzXE"
      },
      "execution_count": null,
      "outputs": []
    },
    {
      "cell_type": "code",
      "source": [],
      "metadata": {
        "id": "jqaRGy8AhQBv"
      },
      "execution_count": null,
      "outputs": []
    }
  ],
  "metadata": {
    "accelerator": "GPU",
    "colab": {
      "provenance": [],
      "mount_file_id": "1FRYA1xB35KIamwQgnz9bLwBmcv30hDYm",
      "authorship_tag": "ABX9TyOrIF3WdC5Gs8lcvtiZJ4c8",
      "include_colab_link": true
    },
    "gpuClass": "standard",
    "kernelspec": {
      "display_name": "Python 3",
      "name": "python3"
    },
    "language_info": {
      "name": "python"
    }
  },
  "nbformat": 4,
  "nbformat_minor": 0
}